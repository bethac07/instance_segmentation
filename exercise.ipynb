{
 "cells": [
  {
   "cell_type": "markdown",
   "id": "49ef91a1",
   "metadata": {},
   "source": [
    "# Exercise 05: Instance Segmentation\n",
    "\n",
    "So far, we were only interested in `semantic` classes, e.g. foreground / background etc.\n",
    "But in many cases we not only want to know if a certain pixel belongs to a specific class, but also to which unique object (i.e. the task of `instance segmentation`).\n",
    "\n",
    "For isolated objects, this is trivial, all connected foreground pixels form one instance, yet often instances are very close together or even overlapping. Thus we need to think a bit more how to formulate the targets / loss of our network.\n",
    "\n",
    "Furthermore, in instance segmentation the specific value of each label is arbitrary. Here, `Mask 1` and `Mask 2` are equivalently good segmentations even though the values of pixels on individual cells are different.\n",
    "\n",
    "| Image | Mask 1| Mask 2|\n",
    "| :-: | :-: | :-: |\n",
    "| ![image](static/figure1/01_instance_image.png) | ![mask1](static/figure1/02_instance_teaser.png) | ![mask2](static/figure1/03_instance_teaser.png) |\n",
    "\n",
    "Once again: THE SPECIFIC VALUES OF THE LABELS ARE ARBITRARY\n",
    "\n",
    "This means that the model will not be able to learn, if tasked to predict the labels directly.\n",
    "\n",
    "Therefore we split the task of instance segmentation in two and introduce an intermediate target which must be:\n",
    "  1) learnable\n",
    "  2) post-processable into an instance segmentation\n",
    "\n",
    "In this exercise we will go over two common intermediate targets (signed distance transform and affinities),\n",
    "as well as the necessary pre and post-processing for obtaining the final segmentations.\n",
    "\n",
    "At the end of the exercise we will also compare to a pre-trained cellpose model."
   ]
  },
  {
   "cell_type": "markdown",
   "id": "05e18e91",
   "metadata": {},
   "source": [
    "<div class=\"alert alert-block alert-danger\">\n",
    "<b>Conda Kernel</b>: Please use the kernel `04-instance-segmentation` for this exercise\n",
    "</div>"
   ]
  },
  {
   "cell_type": "markdown",
   "id": "8775b938",
   "metadata": {},
   "source": [
    "## Section 0: Imports and Setup"
   ]
  },
  {
   "cell_type": "code",
   "execution_count": null,
   "id": "b928ae25",
   "metadata": {},
   "outputs": [],
   "source": [
    "# Set start method for MacOS\n",
    "import multiprocessing\n",
    "\n",
    "multiprocessing.set_start_method(\"fork\", force=True)"
   ]
  },
  {
   "cell_type": "markdown",
   "id": "64a68e08",
   "metadata": {
    "lines_to_next_cell": 0
   },
   "source": [
    "## Import Packages"
   ]
  },
  {
   "cell_type": "code",
   "execution_count": null,
   "id": "2c2d9df9",
   "metadata": {
    "lines_to_next_cell": 2
   },
   "outputs": [],
   "source": [
    "from matplotlib.colors import ListedColormap\n",
    "import numpy as np\n",
    "import os\n",
    "import torch\n",
    "from PIL import Image\n",
    "from torch.utils.data import DataLoader\n",
    "from torch.utils.data import Dataset\n",
    "from torchvision.transforms import v2\n",
    "from scipy.ndimage import distance_transform_edt, map_coordinates\n",
    "from local import train, NucleiDataset, plot_two, plot_three, plot_four\n",
    "from dlmbl_unet import UNet\n",
    "from tqdm import tqdm\n",
    "import tifffile\n",
    "import mwatershed as mws\n",
    "\n",
    "from skimage.filters import threshold_otsu"
   ]
  },
  {
   "cell_type": "code",
   "execution_count": null,
   "id": "53a9aa95",
   "metadata": {},
   "outputs": [],
   "source": [
    "# Set some variables that are specific to the hardware being run on\n",
    "# this should be optimized for the compute nodes once available.\n",
    "device = \"cpu\"  # 'cuda', 'cpu', 'mps'\n",
    "NUM_THREADS = 0\n",
    "NUM_EPOCHS = 20\n",
    "# make sure gpu is available. Please call a TA if this cell fails\n",
    "# assert torch.cuda.is_available()"
   ]
  },
  {
   "cell_type": "code",
   "execution_count": null,
   "id": "1f24bdcd",
   "metadata": {},
   "outputs": [],
   "source": [
    "# Create a custom label color map for showing instances\n",
    "np.random.seed(1)\n",
    "colors = [[0, 0, 0]] + [list(np.random.choice(range(256), size=3)) for _ in range(254)]\n",
    "label_cmap = ListedColormap(colors)"
   ]
  },
  {
   "cell_type": "markdown",
   "id": "6344d941",
   "metadata": {},
   "source": [
    "## Section 1: Signed Distance Transform (SDT)\n",
    "\n",
    "First we will use the signed distance transform as an intermediate learning objective\n",
    "\n",
    "<i>What is the signed distance transform?</i>\n",
    "<br>  - Signed Distance Transform indicates the distance from each specific pixel to the boundary of objects.\n",
    "<br>  - It is positive for pixels inside objects and negative for pixels outside objects (i.e. in the background).\n",
    "<br>  - Remember that deep learning models work best with normalized values, therefore it is important the scale the distance\n",
    "           transform. For simplicity things are often scaled between -1 and 1.\n",
    "<br>  - As an example, here, you see the SDT (right) of the target mask (middle), below."
   ]
  },
  {
   "cell_type": "markdown",
   "id": "72ec1e22",
   "metadata": {},
   "source": [
    "![image](static/figure2/04_instance_sdt.png)\n"
   ]
  },
  {
   "cell_type": "code",
   "execution_count": null,
   "id": "380cac87",
   "metadata": {
    "lines_to_next_cell": 2
   },
   "outputs": [],
   "source": [
    "\n",
    "\n",
    "def compute_sdt(labels: np.ndarray, scale: int = 5):\n",
    "    \"\"\"Function to compute a signed distance transform.\"\"\"\n",
    "    dims = len(labels.shape)\n",
    "    distances = np.ones(labels.shape, dtype=np.float32) * np.inf\n",
    "    for axis in range(dims):\n",
    "        bounds = (\n",
    "            labels[*[slice(None) if a != axis else slice(1, None) for a in range(dims)]]\n",
    "            == labels[\n",
    "                *[slice(None) if a != axis else slice(None, -1) for a in range(dims)]\n",
    "            ]\n",
    "        )\n",
    "        bounds = np.pad(\n",
    "            bounds,\n",
    "            [(1, 1) if a == axis else (0, 0) for a in range(dims)],\n",
    "            mode=\"constant\",\n",
    "            constant_values=1,\n",
    "        )\n",
    "        axis_distances = distance_transform_edt(bounds)\n",
    "\n",
    "        coordinates = np.meshgrid(\n",
    "            *[\n",
    "                range(axis_distances.shape[a])\n",
    "                if a != axis\n",
    "                else np.linspace(0.5, axis_distances.shape[a] - 1.5, labels.shape[a])\n",
    "                for a in range(dims)\n",
    "            ],\n",
    "            indexing=\"ij\",\n",
    "        )\n",
    "        coordinates = np.stack(coordinates)\n",
    "\n",
    "        sampled = map_coordinates(\n",
    "            axis_distances,\n",
    "            coordinates=coordinates,\n",
    "            order=3,\n",
    "        )\n",
    "        distances = np.minimum(distances, sampled)\n",
    "    distances = np.tanh(distances / scale)\n",
    "    distances[labels == 0] *= -1\n",
    "    return distances"
   ]
  },
  {
   "cell_type": "markdown",
   "id": "289d434c",
   "metadata": {
    "lines_to_next_cell": 2
   },
   "source": [
    "<div class=\"alert alert-block alert-info\">\n",
    "<b>Task 1.1</b>: Explain the `compute_sdt` from the cell above.\n",
    "</div>"
   ]
  },
  {
   "cell_type": "markdown",
   "id": "e563cce9",
   "metadata": {
    "tags": [
     "task"
    ]
   },
   "source": [
    "1. _Why do we need to loop over dimensions?_\n",
    "\n",
    "2. _What is the purpose of the pad?_\n",
    "\n",
    "3. _What does meshgrid do?_\n",
    "\n",
    "4. _Why do we use `map_coordinates`?_"
   ]
  },
  {
   "cell_type": "markdown",
   "id": "20790d9d",
   "metadata": {
    "lines_to_next_cell": 0
   },
   "source": [
    "Below is a small function to visualize the signed distance transform (SDT). <br> Use it to validate your function.\n",
    "<br> Note that the output of the signed distance transform is not binary, a significant difference from semantic segmentation"
   ]
  },
  {
   "cell_type": "code",
   "execution_count": null,
   "id": "b406a07f",
   "metadata": {},
   "outputs": [],
   "source": [
    "# Visualize the signed distance transform using the function you wrote above.\n",
    "\n",
    "root_dir = \"tissuenet_data/train\"  # the directory with all the training samples\n",
    "samples = os.listdir(root_dir)\n",
    "idx = np.random.randint(len(samples) // 3)  # take a random sample.\n",
    "img = tifffile.imread(os.path.join(root_dir, f\"img_{idx}.tif\"))  # get the image\n",
    "label = tifffile.imread(\n",
    "    os.path.join(root_dir, f\"img_{idx}_cyto_masks.tif\")\n",
    ")  # get the image\n",
    "sdt = compute_sdt(label)\n",
    "plot_two(img, sdt, label=\"SDT\")"
   ]
  },
  {
   "cell_type": "markdown",
   "id": "3a6b1c56",
   "metadata": {},
   "source": [
    "<div class=\"alert alert-block alert-info\">\n",
    "<b>Task 1.2</b>: Explain the scale parameter.\n",
    "</div>"
   ]
  },
  {
   "cell_type": "markdown",
   "id": "e63453b4",
   "metadata": {
    "tas": [
     "task"
    ]
   },
   "source": [
    "<b>Questions</b>:\n",
    "1. _Why do we need to normalize the distances between -1 and 1?_\n",
    "\n",
    "2. _What is the effect of changing the scale value? What do you think is a good default value?_\n"
   ]
  },
  {
   "cell_type": "markdown",
   "id": "556b60ca",
   "metadata": {
    "lines_to_next_cell": 2
   },
   "source": [
    "<div class=\"alert alert-block alert-info\">\n",
    "<b>Task 1.3</b>: <br>\n",
    "    Modify the `SDTDataset` class below to produce the paired raw and SDT images.<br>\n",
    "  1. Modify the `__getitem__` method to return an SDT output rather than a label mask.<br>\n",
    "      - Ensure that all final outputs are of torch tensor type.<br>\n",
    "      - Think about the order in which transformations are applied to the mask/SDT.<br>\n",
    "</div>"
   ]
  },
  {
   "cell_type": "code",
   "execution_count": null,
   "id": "2a096b8c",
   "metadata": {
    "tags": [
     "task"
    ]
   },
   "outputs": [],
   "source": [
    "class SDTDataset(Dataset):\n",
    "    \"\"\"A PyTorch dataset to load cell images and nuclei masks.\"\"\"\n",
    "\n",
    "    def __init__(self, root_dir, transform=None, img_transform=None, return_mask=False):\n",
    "        self.root_dir = root_dir  # the directory with all the training samples\n",
    "        self.num_samples = len(os.listdir(self.root_dir)) // 3  # list the samples\n",
    "        self.return_mask = return_mask\n",
    "        self.transform = (\n",
    "            transform  # transformations to apply to both inputs and targets\n",
    "        )\n",
    "        self.img_transform = img_transform  # transformations to apply to raw image only\n",
    "        #  transformations to apply just to inputs\n",
    "        inp_transforms = v2.Compose(\n",
    "            [\n",
    "                v2.ToDtype(torch.float32, scale=True),\n",
    "                v2.Normalize([0.5], [0.5]),  # 0.5 = mean and 0.5 = variance\n",
    "            ]\n",
    "        )\n",
    "        self.to_img = v2.Lambda(lambda x: torch.from_numpy(x))\n",
    "\n",
    "        self.loaded_imgs = [None] * self.num_samples\n",
    "        self.loaded_masks = [None] * self.num_samples\n",
    "        for sample_ind in tqdm(range(self.num_samples)):\n",
    "            img_path = os.path.join(self.root_dir, f\"img_{sample_ind}.tif\")\n",
    "            image = self.to_img(tifffile.imread(img_path))\n",
    "            self.loaded_imgs[sample_ind] = inp_transforms(image)\n",
    "            mask_path = os.path.join(self.root_dir, f\"img_{sample_ind}_cyto_masks.tif\")\n",
    "            mask = self.to_img(tifffile.imread(mask_path))\n",
    "            self.loaded_masks[sample_ind] = mask\n",
    "\n",
    "    # get the total number of samples\n",
    "    def __len__(self):\n",
    "        return self.num_samples\n",
    "\n",
    "    # fetch the training sample given its index\n",
    "    def __getitem__(self, idx):\n",
    "        # We'll be using the Pillow library for reading files\n",
    "        # since many torchvision transforms operate on PIL images\n",
    "        image = self.loaded_imgs[idx]\n",
    "        mask = self.loaded_masks[idx]\n",
    "        if self.transform is not None:\n",
    "            # Note: using seeds to ensure the same random transform is applied to\n",
    "            # the image and mask\n",
    "            seed = torch.seed()\n",
    "            torch.manual_seed(seed)\n",
    "            image = self.transform(image)\n",
    "            torch.manual_seed(seed)\n",
    "            mask = self.transform(mask)\n",
    "\n",
    "        # use the compute_sdt function to get the sdt\n",
    "        sdt = ...\n",
    "        assert sdt.shape == mask.shape\n",
    "        if self.img_transform is not None:\n",
    "            image = self.img_transform(image)\n",
    "        if self.return_mask is True:\n",
    "            return image, mask.unsqueeze(0), sdt.unsqueeze(0)\n",
    "        else:\n",
    "            return image, sdt.unsqueeze(0)"
   ]
  },
  {
   "cell_type": "markdown",
   "id": "f8f65d87",
   "metadata": {
    "lines_to_next_cell": 0
   },
   "source": [
    "### Test your function\n",
    "\n",
    "Next, we will create a training dataset and data loader.\n",
    "We will use `plot_two` (imported in the first cell) to verify that our dataset solution is correct. The output should show 2 images: the raw image and the corresponding SDT."
   ]
  },
  {
   "cell_type": "code",
   "execution_count": null,
   "id": "f58a6402",
   "metadata": {},
   "outputs": [],
   "source": [
    "train_data = SDTDataset(\"tissuenet_data/train\", v2.RandomCrop(256))\n",
    "train_loader = DataLoader(\n",
    "    train_data, batch_size=5, shuffle=True, num_workers=NUM_THREADS\n",
    ")\n",
    "\n",
    "idx = np.random.randint(len(train_data))  # take a random sample\n",
    "img, sdt = train_data[idx]  # get the image and the nuclei masks\n",
    "print(img.shape, sdt.shape)\n",
    "plot_two(img, sdt[0], label=\"SDT\")"
   ]
  },
  {
   "cell_type": "markdown",
   "id": "76fa4118",
   "metadata": {
    "lines_to_next_cell": 0
   },
   "source": [
    "<div class=\"alert alert-block alert-info\">\n",
    "<b>Task 1.4</b>: Train the U-Net.\n",
    "</div>"
   ]
  },
  {
   "cell_type": "markdown",
   "id": "99f229ba",
   "metadata": {},
   "source": [
    "In this task, initialize the UNet, specify a loss function, learning rate, and optimizer, and train the model.<br>\n",
    "<br> For simplicity we will use a pre-made training function imported from `local.py`. <br>\n",
    "<u>Hints</u>:<br>\n",
    "  - Loss function - [torch losses](https://pytorch.org/docs/stable/nn.html#loss-functions)\n",
    "  - Optimizer - [torch optimizers](https://pytorch.org/docs/stable/optim.html)\n",
    "  - Final Activation - there are a few options (only one is the best)\n",
    "      - [sigmoid](https://pytorch.org/docs/stable/generated/torch.nn.Sigmoid.html)\n",
    "      - [tanh](https://pytorch.org/docs/stable/generated/torch.nn.Tanh.html#torch.nn.Tanh)\n",
    "      - [relu](https://pytorch.org/docs/stable/generated/torch.nn.ReLU.html#torch.nn.ReLU)"
   ]
  },
  {
   "cell_type": "code",
   "execution_count": null,
   "id": "d9547623",
   "metadata": {
    "tags": [
     "task"
    ]
   },
   "outputs": [],
   "source": [
    "# If you manage to get a loss close to 0.1, you are doing pretty well and can probably move on\n",
    "unet = ...\n",
    "\n",
    "learning_rate = ...\n",
    "loss = ...\n",
    "optimizer = ...\n",
    "\n",
    "for epoch in range(NUM_EPOCHS):\n",
    "    train(\n",
    "        model=...,\n",
    "        loader=...,\n",
    "        optimizer=...,\n",
    "        loss_function=...,\n",
    "        epoch=...,\n",
    "        log_interval=2,\n",
    "        device=device,\n",
    "    )"
   ]
  },
  {
   "cell_type": "markdown",
   "id": "f37ed17f",
   "metadata": {},
   "source": [
    "Now, let's apply our trained model and visualize some random samples. <br>\n",
    "First, we create a validation dataset. <br> Next, we sample a random image from the dataset and input into the model."
   ]
  },
  {
   "cell_type": "code",
   "execution_count": null,
   "id": "71ec9e70",
   "metadata": {
    "lines_to_next_cell": 2
   },
   "outputs": [],
   "source": [
    "val_data = SDTDataset(\"tissuenet_data/test\")\n",
    "unet.eval()\n",
    "idx = np.random.randint(len(val_data))  # take a random sample.\n",
    "image, sdt = val_data[idx]  # get the image and the nuclei masks.\n",
    "image = image.to(device)\n",
    "pred = unet(torch.unsqueeze(image, dim=0))\n",
    "image = np.squeeze(image.cpu())\n",
    "sdt = np.squeeze(sdt.cpu().numpy())\n",
    "pred = np.squeeze(pred.cpu().detach().numpy())\n",
    "plot_three(image, sdt, pred)"
   ]
  },
  {
   "cell_type": "markdown",
   "id": "0d2923bc",
   "metadata": {
    "lines_to_next_cell": 0
   },
   "source": [
    "<div class=\"alert alert-block alert-success\">\n",
    "<h2> Checkpoint 1 </h2>\n",
    "\n",
    "At this point we have a model that does what we told it too, but do not yet have a segmentation. <br>\n",
    "In the next section, we will perform some post-processing and obtain segmentations from our predictions."
   ]
  },
  {
   "cell_type": "markdown",
   "id": "b8fce806",
   "metadata": {},
   "source": [
    "<hr style=\"height:2px;\">\n",
    "\n",
    "## Section 2: Post-Processing\n",
    "- See here for a nice overview: [open-cv-image watershed](https://docs.opencv.org/4.x/d3/db4/tutorial_py_watershed.html), although the specifics of our code will be slightly different\n",
    "- Given the distance transform (the output of our model), we first need to find the local maxima that will be used as seed points\n",
    "- The watershed algorithm then expands each seed out in a local \"basin\" until the segments touch or the boundary of the object is hit."
   ]
  },
  {
   "cell_type": "markdown",
   "id": "541b8e4b",
   "metadata": {},
   "source": [
    "<div class=\"alert alert-block alert-info\">\n",
    "<b>Task 2.1</b>: write a function to find the local maxima of the distance transform\n",
    "</div>"
   ]
  },
  {
   "cell_type": "markdown",
   "id": "b8f7acea",
   "metadata": {},
   "source": [
    "<u>Hint</u>: Look at the imports. <br>\n",
    "<u>Hint</u>: It is possible to write this function by only adding 2 lines."
   ]
  },
  {
   "cell_type": "code",
   "execution_count": null,
   "id": "aaac8857",
   "metadata": {
    "tags": [
     "task"
    ]
   },
   "outputs": [],
   "source": [
    "from scipy.ndimage import label, maximum_filter\n",
    "\n",
    "\n",
    "def find_local_maxima(distance_transform, min_dist_between_points):\n",
    "    # Hint: Use `maximum_filter` to perform a maximum filter convolution on the distance_transform\n",
    "\n",
    "    seeds, number_of_seeds = ...\n",
    "\n",
    "    return seeds, number_of_seeds"
   ]
  },
  {
   "cell_type": "code",
   "execution_count": null,
   "id": "b9c77ac6",
   "metadata": {},
   "outputs": [],
   "source": [
    "# test your function.\n",
    "from local import test_maximum\n",
    "\n",
    "test_maximum(find_local_maxima)"
   ]
  },
  {
   "cell_type": "markdown",
   "id": "e6d02e27",
   "metadata": {
    "lines_to_next_cell": 0
   },
   "source": [
    "We now use this function to find the seeds for the watershed."
   ]
  },
  {
   "cell_type": "code",
   "execution_count": null,
   "id": "ba15b010",
   "metadata": {},
   "outputs": [],
   "source": [
    "from skimage.segmentation import watershed\n",
    "\n",
    "\n",
    "def watershed_from_boundary_distance(\n",
    "    boundary_distances: np.ndarray,\n",
    "    inner_mask: np.ndarray,\n",
    "    id_offset: float = 0,\n",
    "    min_seed_distance: int = 10,\n",
    "):\n",
    "    \"\"\"Function to compute a watershed from boundary distances.\"\"\"\n",
    "\n",
    "    seeds, n = find_local_maxima(boundary_distances, min_seed_distance)\n",
    "\n",
    "    if n == 0:\n",
    "        return np.zeros(boundary_distances.shape, dtype=np.uint64), id_offset\n",
    "\n",
    "    seeds[seeds != 0] += id_offset\n",
    "\n",
    "    # calculate our segmentation\n",
    "    segmentation = watershed(\n",
    "        boundary_distances.max() - boundary_distances, seeds, mask=inner_mask\n",
    "    )\n",
    "\n",
    "    return segmentation\n",
    "\n",
    "\n",
    "def get_inner_mask(pred, threshold):\n",
    "    inner_mask = pred > threshold\n",
    "    return inner_mask"
   ]
  },
  {
   "cell_type": "markdown",
   "id": "d54660ac",
   "metadata": {},
   "source": [
    "<div class=\"alert alert-block alert-info\">\n",
    "<b>Task 2.2</b>: <br> Use the model to generate a predicted SDT and then use the watershed function we defined above to get post-process into a segmentation\n",
    "</div>"
   ]
  },
  {
   "cell_type": "code",
   "execution_count": null,
   "id": "d0855add",
   "metadata": {
    "tags": [
     "task"
    ]
   },
   "outputs": [],
   "source": [
    "idx = np.random.randint(len(val_data))  # take a random sample\n",
    "image, mask = val_data[idx]  # get the image and the nuclei masks\n",
    "\n",
    "# get the model prediction\n",
    "# Hint: make sure set the model to evaluation\n",
    "# Hint: check the dims of the image, remember they should be [batch, channels, x, y]\n",
    "# Hint: remember to move model outputs to the cpu and check their dimensions (as you did in task 1.4 visualization)\n",
    "unet.eval()\n",
    "\n",
    "# remember to move the image to the device\n",
    "pred = ...\n",
    "\n",
    "# turn image, mask, and pred into plain numpy arrays\n",
    "\n",
    "# Choose a threshold value to use to get the boundary mask.\n",
    "# Feel free to play around with the threshold.\n",
    "# hint: If you're struggling to find a good threshold, you can use the `threshold_otsu` function\n",
    "\n",
    "threshold = ...\n",
    "\n",
    "# Get inner mask\n",
    "inner_mask = get_inner_mask(pred, threshold=threshold)\n",
    "\n",
    "# Get the segmentation\n",
    "seg = watershed_from_boundary_distance(pred, inner_mask, min_seed_distance=20)"
   ]
  },
  {
   "cell_type": "code",
   "execution_count": null,
   "id": "06317e71",
   "metadata": {},
   "outputs": [],
   "source": [
    "# Visualize the results\n",
    "\n",
    "plot_four(image[1], mask, pred, seg, label=\"Target\", cmap=label_cmap)"
   ]
  },
  {
   "cell_type": "markdown",
   "id": "99cfe007",
   "metadata": {},
   "source": [
    "<div class=\"alert alert-block alert-info\">\n",
    "<b>Task 2.3</b>: <br> Min Seed Distance\n",
    "</div>"
   ]
  },
  {
   "cell_type": "markdown",
   "id": "6112b663",
   "metadata": {
    "tags": [
     "task"
    ]
   },
   "source": [
    "Questions:\n",
    "1. What is the effect of the `min_seed_distance` parameter in watershed?\n",
    "      - Experiment with different values."
   ]
  },
  {
   "cell_type": "markdown",
   "id": "566968d0",
   "metadata": {},
   "source": [
    "<div class=\"alert alert-block alert-success\">\n",
    "<h2> Checkpoint 2 </h2>"
   ]
  },
  {
   "cell_type": "markdown",
   "id": "4db8fb04",
   "metadata": {},
   "source": [
    "<hr style=\"height:2px;\">\n",
    "\n",
    "## Section 3: Evaluation\n",
    "Many different evaluation metrics exist, and which one you should use is dependant on the specifics of the data.\n",
    "\n",
    "[This website](https://metrics-reloaded.dkfz.de/problem-category-selection) has a good summary of different options."
   ]
  },
  {
   "cell_type": "markdown",
   "id": "6978da65",
   "metadata": {
    "lines_to_next_cell": 0
   },
   "source": [
    "<div class=\"alert alert-block alert-info\">\n",
    "<b>Task 3.1</b>: Pick the best metric to use\n",
    "</div>"
   ]
  },
  {
   "cell_type": "markdown",
   "id": "eaa6a418",
   "metadata": {
    "tags": [
     "task"
    ]
   },
   "source": [
    "Which of the following should we use for our dataset?:\n",
    "  1) [IoU](https://metrics-reloaded.dkfz.de/metric?id=intersection_over_union)\n",
    "  2) [Accuracy](https://metrics-reloaded.dkfz.de/metric?id=accuracy)\n",
    "  3) [Sensitivity](https://metrics-reloaded.dkfz.de/metric?id=sensitivity) and [Specificity](https://metrics-reloaded.dkfz.de/metric?id=specificity@target_value)\n"
   ]
  },
  {
   "cell_type": "markdown",
   "id": "c8447acb",
   "metadata": {},
   "source": [
    "<div class=\"alert alert-block alert-info\">\n",
    "<b>Task 3.2</b>: <br> Evaluate metrics for the validation dataset. Fill in the blanks\n",
    "</div>"
   ]
  },
  {
   "cell_type": "code",
   "execution_count": null,
   "id": "5770df39",
   "metadata": {
    "tags": [
     "task"
    ]
   },
   "outputs": [],
   "source": [
    "from local import evaluate\n",
    "\n",
    "# Need to re-initialize the dataloader to return masks in addition to SDTs.\n",
    "val_dataset = SDTDataset(\"tissuenet_data/test\", return_mask=True)\n",
    "val_dataloader = DataLoader(\n",
    "    val_dataset, batch_size=1, shuffle=False, num_workers=NUM_THREADS\n",
    ")\n",
    "unet.eval()\n",
    "\n",
    "(\n",
    "    precision_list,\n",
    "    recall_list,\n",
    "    accuracy_list,\n",
    ") = (\n",
    "    [],\n",
    "    [],\n",
    "    [],\n",
    ")\n",
    "for idx, (image, mask, sdt) in enumerate(tqdm(val_dataloader)):\n",
    "    image = image.to(device)\n",
    "    pred = unet(image)\n",
    "\n",
    "    image = np.squeeze(image.cpu())\n",
    "    gt_labels = np.squeeze(mask.cpu().numpy())\n",
    "    pred = np.squeeze(pred.cpu().detach().numpy())\n",
    "\n",
    "    # feel free to try different thresholds\n",
    "    thresh = ...\n",
    "\n",
    "    # get boundary mask\n",
    "    inner_mask = ...\n",
    "    pred_labels = ...\n",
    "    precision, recall, accuracy = evaluate(gt_labels, pred_labels)\n",
    "    precision_list.append(precision)\n",
    "    recall_list.append(recall)\n",
    "    accuracy_list.append(accuracy)\n",
    "\n",
    "print(f\"Mean Precision is {np.mean(precision_list):.3f}\")\n",
    "print(f\"Mean Recall is {np.mean(recall_list):.3f}\")\n",
    "print(f\"Mean Accuracy is {np.mean(accuracy_list):.3f}\")"
   ]
  },
  {
   "cell_type": "markdown",
   "id": "50022b97",
   "metadata": {
    "lines_to_next_cell": 0
   },
   "source": [
    "<hr style=\"height:2px;\">\n",
    "\n",
    "## Section 4: Affinities"
   ]
  },
  {
   "cell_type": "markdown",
   "id": "78d0d678",
   "metadata": {},
   "source": [
    "<i>What are affinities? </i><br>\n",
    "Here we consider not just the pixel but also its direct neighbors.\n",
    "<br> Imagine there is an edge between two pixels if they are in the same class and no edge if not.\n",
    "<br> If we then take all pixels that are directly and indirectly connected by edges, we get an instance.\n",
    "<br> Essentially, we label edges between neighboring pixels as “connected” or “cut”, rather than labeling the pixels themselves. <br>\n",
    "Here,  we show the (affinity in x + affinity in y) in the bottom right image."
   ]
  },
  {
   "cell_type": "markdown",
   "id": "e1ba25fb",
   "metadata": {},
   "source": [
    "![image](static/figure3/instance_affinity.png)"
   ]
  },
  {
   "cell_type": "markdown",
   "id": "a09d6b75",
   "metadata": {},
   "source": [
    "Similar to the pipeline used for SDTs, we first need to modify the dataset to produce affinities."
   ]
  },
  {
   "cell_type": "code",
   "execution_count": null,
   "id": "2a1ca3be",
   "metadata": {},
   "outputs": [],
   "source": [
    "# create a new dataset for affinities\n",
    "from local import compute_affinities\n",
    "\n",
    "\n",
    "class AffinityDataset(Dataset):\n",
    "    \"\"\"A PyTorch dataset to load cell images and nuclei masks\"\"\"\n",
    "\n",
    "    def __init__(\n",
    "        self,\n",
    "        root_dir,\n",
    "        transform=None,\n",
    "        img_transform=None,\n",
    "        return_mask=False,\n",
    "        weights: bool = False,\n",
    "    ):\n",
    "        self.weights = weights\n",
    "        self.root_dir = root_dir  # the directory with all the training samples\n",
    "        self.num_samples = len(os.listdir(self.root_dir)) // 3  # list the samples\n",
    "        self.return_mask = return_mask\n",
    "        self.transform = (\n",
    "            transform  # transformations to apply to both inputs and targets\n",
    "        )\n",
    "        self.img_transform = img_transform  # transformations to apply to raw image only\n",
    "        #  transformations to apply just to inputs\n",
    "        inp_transforms = v2.Compose(\n",
    "            [\n",
    "                v2.Normalize([0.5], [0.5]),  # 0.5 = mean and 0.5 = variance\n",
    "            ]\n",
    "        )\n",
    "        self.to_img = v2.Lambda(lambda x: torch.from_numpy(x))\n",
    "\n",
    "        self.loaded_imgs = [None] * self.num_samples\n",
    "        self.loaded_masks = [None] * self.num_samples\n",
    "        for sample_ind in tqdm(range(self.num_samples)):\n",
    "            img_path = os.path.join(self.root_dir, f\"img_{sample_ind}.tif\")\n",
    "            image = self.to_img(tifffile.imread(img_path))\n",
    "            self.loaded_imgs[sample_ind] = inp_transforms(image)\n",
    "            mask_path = os.path.join(self.root_dir, f\"img_{sample_ind}_cyto_masks.tif\")\n",
    "            mask = self.to_img(tifffile.imread(mask_path))\n",
    "            self.loaded_masks[sample_ind] = mask\n",
    "\n",
    "    # get the total number of samples\n",
    "    def __len__(self):\n",
    "        return self.num_samples\n",
    "\n",
    "    # fetch the training sample given its index\n",
    "    def __getitem__(self, idx):\n",
    "        # We'll be using the Pillow library for reading files\n",
    "        # since many torchvision transforms operate on PIL images\n",
    "        image = self.loaded_imgs[idx]\n",
    "        mask = self.loaded_masks[idx]\n",
    "        if self.transform is not None:\n",
    "            # Note: using seeds to ensure the same random transform is applied to\n",
    "            # the image and mask\n",
    "            seed = torch.seed()\n",
    "            torch.manual_seed(seed)\n",
    "            image = self.transform(image)\n",
    "            torch.manual_seed(seed)\n",
    "            mask = self.transform(mask)\n",
    "        aff_mask = self.create_aff_target(mask)\n",
    "        if self.img_transform is not None:\n",
    "            image = self.img_transform(image)\n",
    "\n",
    "        if self.weights:\n",
    "            weight = torch.zeros_like(aff_mask)\n",
    "            for channel in range(weight.shape[0]):\n",
    "                weight[channel][aff_mask[channel] == 0] = np.clip(\n",
    "                    weight[channel].numel()\n",
    "                    / 2\n",
    "                    / (weight[channel].numel() - weight[channel].sum()),\n",
    "                    0.1,\n",
    "                    10.0,\n",
    "                )\n",
    "                weight[channel][aff_mask[channel] == 1] = np.clip(\n",
    "                    weight[channel].numel() / 2 / weight[channel].sum(), 0.1, 10.0\n",
    "                )\n",
    "\n",
    "            if self.return_mask is True:\n",
    "                return image, mask, aff_mask, weight\n",
    "            else:\n",
    "                return image, aff_mask, weight\n",
    "        else:\n",
    "            if self.return_mask is True:\n",
    "                return image, mask, aff_mask\n",
    "            else:\n",
    "                return image, aff_mask\n",
    "\n",
    "    def create_aff_target(self, mask):\n",
    "        aff_target_array = compute_affinities(\n",
    "            np.asarray(mask), [[0, 1], [1, 0], [0, 5], [5, 0]]\n",
    "        )\n",
    "        aff_target = torch.from_numpy(aff_target_array)\n",
    "        return aff_target.float()"
   ]
  },
  {
   "cell_type": "markdown",
   "id": "c116e4c6",
   "metadata": {
    "lines_to_next_cell": 0
   },
   "source": [
    "Next we initialize the datasets and data loaders."
   ]
  },
  {
   "cell_type": "code",
   "execution_count": null,
   "id": "87610b6f",
   "metadata": {
    "lines_to_next_cell": 2
   },
   "outputs": [],
   "source": [
    "# Initialize the datasets\n",
    "\n",
    "train_data = AffinityDataset(\"tissuenet_data/train\", v2.RandomCrop(256), weights=True)\n",
    "train_loader = DataLoader(\n",
    "    train_data, batch_size=5, shuffle=True, num_workers=NUM_THREADS\n",
    ")\n",
    "idx = np.random.randint(len(train_data))  # take a random sample\n",
    "img, affinity, weight = train_data[idx]  # get the image and the nuclei masks\n",
    "plot_two(img, affinity, label=\"AFFINITY\")"
   ]
  },
  {
   "cell_type": "markdown",
   "id": "223b7900",
   "metadata": {
    "lines_to_next_cell": 0
   },
   "source": [
    "<div class=\"alert alert-block alert-info\">\n",
    "<b>Task 4.1</b>: Train a model with affinities as targets.\n",
    "</div>"
   ]
  },
  {
   "cell_type": "markdown",
   "id": "9c95f6bc",
   "metadata": {},
   "source": [
    "Repurpose the training loop which you used for the SDTs. <br>\n",
    "Think carefully about your final activation and number of out channels. <br>\n",
    "(The best for SDT is not necessarily the best for affinities.)"
   ]
  },
  {
   "cell_type": "code",
   "execution_count": null,
   "id": "0bfcb023",
   "metadata": {
    "tags": [
     "task"
    ]
   },
   "outputs": [],
   "source": [
    "\n",
    "unet = ...\n",
    "learning_rate = ...\n",
    "loss = ...\n",
    "optimizer = ...\n",
    "\n",
    "# train"
   ]
  },
  {
   "cell_type": "code",
   "execution_count": null,
   "id": "865eec8c",
   "metadata": {},
   "outputs": [],
   "source": [
    "for epoch in range(NUM_EPOCHS):\n",
    "    train(\n",
    "        unet,\n",
    "        train_loader,\n",
    "        optimizer,\n",
    "        loss,\n",
    "        epoch,\n",
    "        log_interval=2,\n",
    "        device=device,\n",
    "    )"
   ]
  },
  {
   "cell_type": "markdown",
   "id": "4c82e6ac",
   "metadata": {},
   "source": [
    "Let's next look at a prediction on a random image."
   ]
  },
  {
   "cell_type": "code",
   "execution_count": null,
   "id": "9373d53e",
   "metadata": {},
   "outputs": [],
   "source": [
    "val_data = AffinityDataset(\"tissuenet_data/test\", v2.RandomCrop(256))\n",
    "val_loader = DataLoader(val_data, batch_size=1, shuffle=False, num_workers=8)\n",
    "\n",
    "unet.eval()\n",
    "idx = np.random.randint(len(val_data))  # take a random sample\n",
    "image, affs = val_data[idx]  # get the image and the nuclei masks\n",
    "image = image.to(device)\n",
    "pred = torch.squeeze(unet(torch.unsqueeze(image, dim=0)))\n",
    "image = image.cpu()\n",
    "affs = affs.cpu().numpy()\n",
    "pred = pred.cpu().detach().numpy()\n",
    "\n",
    "bias_short = -0.9\n",
    "bias_long = -0.95\n",
    "\n",
    "pred_labels = mws.agglom(\n",
    "    np.array(\n",
    "        [\n",
    "            pred[0] + bias_short,\n",
    "            pred[1] + bias_short,\n",
    "            pred[2] + bias_long,\n",
    "            pred[3] + bias_long,\n",
    "        ]\n",
    "    ).astype(np.float64),\n",
    "    [[0, 1], [1, 0], [0, 5], [5, 0]],\n",
    ")\n",
    "\n",
    "plot_four(image, affs, pred, pred_labels, label=\"Affinity\")"
   ]
  },
  {
   "cell_type": "markdown",
   "id": "7bf0ec01",
   "metadata": {},
   "source": [
    "Let's also evaluate the model performance."
   ]
  },
  {
   "cell_type": "code",
   "execution_count": null,
   "id": "74e22261",
   "metadata": {},
   "outputs": [],
   "source": [
    "\n",
    "val_dataset = AffinityDataset(\"tissuenet_data/test\", return_mask=True)\n",
    "val_loader = DataLoader(\n",
    "    val_dataset, batch_size=1, shuffle=False, num_workers=NUM_THREADS\n",
    ")\n",
    "unet.eval()\n",
    "\n",
    "(\n",
    "    precision_list,\n",
    "    recall_list,\n",
    "    accuracy_list,\n",
    ") = (\n",
    "    [],\n",
    "    [],\n",
    "    [],\n",
    ")\n",
    "for idx, (image, mask, _) in enumerate(tqdm(val_dataloader)):\n",
    "    image = image.to(device)\n",
    "\n",
    "    pred = unet(image)\n",
    "\n",
    "    image = np.squeeze(image.cpu())\n",
    "\n",
    "    gt_labels = np.squeeze(mask.cpu().numpy())\n",
    "\n",
    "    pred = np.squeeze(pred.cpu().detach().numpy())\n",
    "\n",
    "    # # feel free to try different thresholds\n",
    "    # thresh = threshold_otsu(pred)\n",
    "\n",
    "    # # get boundary mask\n",
    "    # inner_mask = 0.5 * (pred[0] + pred[1]) > thresh\n",
    "\n",
    "    # boundary_distances = distance_transform_edt(inner_mask)\n",
    "\n",
    "    # pred_labels = watershed_from_boundary_distance(\n",
    "    #     boundary_distances, inner_mask, id_offset=0, min_seed_distance=20\n",
    "    # )\n",
    "    pred_labels = mws.agglom(\n",
    "        np.array(\n",
    "            [\n",
    "                pred[0] - bias_short,\n",
    "                pred[1] - bias_short,\n",
    "                pred[2] - bias_long,\n",
    "                pred[3] - bias_long,\n",
    "            ]\n",
    "        ).astype(np.float64),\n",
    "        [[0, 1], [1, 0], [0, 5], [5, 0]],\n",
    "    )\n",
    "\n",
    "    precision, recall, accuracy = evaluate(gt_labels, pred_labels)\n",
    "    precision_list.append(precision)\n",
    "    recall_list.append(recall)\n",
    "    accuracy_list.append(accuracy)\n",
    "\n",
    "print(f\"Mean Precision is {np.mean(precision_list):.3f}\")\n",
    "print(f\"Mean Recall is {np.mean(recall_list):.3f}\")\n",
    "print(f\"Mean Accuracy is {np.mean(accuracy_list):.3f}\")"
   ]
  },
  {
   "cell_type": "markdown",
   "id": "8ad1901f",
   "metadata": {
    "lines_to_next_cell": 0
   },
   "source": [
    "<hr style=\"height:2px;\">\n",
    "\n",
    "## Bonus: Further reading on Affinities\n",
    "[Here](https://localshapedescriptors.github.io/) is a blog post describing the Local Shape Descriptor method of instance segmentation.\n"
   ]
  },
  {
   "cell_type": "markdown",
   "id": "5c861567",
   "metadata": {
    "lines_to_next_cell": 0
   },
   "source": [
    "<hr style=\"height:2px;\">\n",
    "\n",
    "## Bonus: Pre-Trained Models\n",
    "Cellpose has an excellent pre-trained model for instance segmentation of cells and nuclei.\n",
    "<br> take a look at the full built-in models and try to apply one to the dataset used in this exercise.\n",
    "<br> -[cellpose github](https://github.com/MouseLand/cellpose)\n",
    "<br> -[cellpose documentation](https://cellpose.readthedocs.io/en/latest/)\n",
    "\n"
   ]
  },
  {
   "cell_type": "code",
   "execution_count": null,
   "id": "f78a0cbe",
   "metadata": {},
   "outputs": [],
   "source": [
    "# Install cellpose.\n",
    "!pip install cellpose"
   ]
  },
  {
   "cell_type": "code",
   "execution_count": null,
   "id": "b5313138",
   "metadata": {},
   "outputs": [],
   "source": []
  }
 ],
 "metadata": {
  "jupytext": {
   "cell_metadata_filter": "all",
   "main_language": "python"
  }
 },
 "nbformat": 4,
 "nbformat_minor": 5
}
