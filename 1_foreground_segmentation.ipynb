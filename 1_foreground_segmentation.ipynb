{
 "cells": [
  {
   "cell_type": "code",
   "execution_count": null,
   "metadata": {
    "colab": {
     "base_uri": "https://localhost:8080/",
     "height": 369
    },
    "executionInfo": {
     "elapsed": 4949,
     "status": "ok",
     "timestamp": 1630750114429,
     "user": {
      "displayName": "Xiaoyan Yu",
      "photoUrl": "https://lh3.googleusercontent.com/a-/AOh14Ggw0PTStQ9tiPNbL0y2m0TgTpIWdEdStBwCE40RoA=s64",
      "userId": "10350941819137867087"
     },
     "user_tz": -120
    },
    "id": "myvzio470JgQ",
    "outputId": "120eba06-0a41-4545-a22c-6434c3462cc7"
   },
   "outputs": [],
   "source": [
    "%matplotlib inline\n",
    "from IPython.core.display import display, HTML\n",
    "# display(HTML(\"<style>.container { width:100% !important; }</style>\"))\n",
    "import os\n",
    "os.environ[\"CUDA_DEVICE_ORDER\"]=\"PCI_BUS_ID\"   # see issue #152\n",
    "os.environ[\"CUDA_VISIBLE_DEVICES\"]=\"0\"\n",
    "\n",
    "\n",
    "import torch\n",
    "from __future__ import division, print_function\n",
    "from torch.utils.data import Dataset\n",
    "import glob\n",
    "import os\n",
    "import zarr\n",
    "import random\n",
    "import datetime\n",
    "import numpy as np\n",
    "\n",
    "from tqdm.notebook import tqdm\n",
    "import matplotlib.pyplot as plt\n",
    "# import h5py\n",
    "# from imgaug import augmenters as iaa\n",
    "# from imgaug.augmentables.segmaps import SegmentationMapsOnImage\n",
    "# from imgaug.augmentables.heatmaps import HeatmapsOnImage\n",
    "import torch.nn.functional as F\n",
    "from torch.utils.data import DataLoader\n",
    "from torchsummary import summary\n",
    "from skimage import io\n",
    "from utils.colormap import *\n",
    "from unet_fov import *\n",
    "\n",
    "plt.rcParams['image.cmap'] = 'gist_earth'\n",
    "torch.backends.cudnn.benchmark = True"
   ]
  },
  {
   "cell_type": "code",
   "execution_count": null,
   "metadata": {
    "id": "MwjOjS5y0JgU"
   },
   "outputs": [],
   "source": [
    "# decompress data\n",
    "from shutil import unpack_archive\n",
    "unpack_archive(os.path.join('datasets','example_toy_data.zip'), './')"
   ]
  },
  {
   "cell_type": "code",
   "execution_count": null,
   "metadata": {
    "id": "LUzGbOXV0JgV"
   },
   "outputs": [],
   "source": [
    "def running_mean(x, n):\n",
    "    cumsum = np.cumsum(np.insert(x, 0, 0)) \n",
    "    return (cumsum[n:] - cumsum[:-n]) / float(n)\n",
    "\n",
    "def plot_history(history):\n",
    "    # plot training and validation loss and binary accuracy\n",
    "    \n",
    "    loss = running_mean(history['loss'], 9)\n",
    "    val_loss = running_mean(history['val_loss'], 9)\n",
    "    #epochs = len(history.history['loss'])\n",
    "    epochs = len(loss)\n",
    "    fig, (ax1, ax2) = plt.subplots(1, 2, figsize=(15, 5))\n",
    "    ax1.plot(range(0, epochs), loss , label='loss')\n",
    "    ax1.plot(range(0, epochs), val_loss, label='val_loss')\n",
    "    ax1.set_title('train and validation loss')\n",
    "    ax1.legend(loc='upper right')\n",
    "    \n",
    "    acc = running_mean(history['binary_accuracy'], 9)\n",
    "    val_acc = running_mean(history['val_binary_accuracy'], 9)\n",
    "\n",
    "    ax2.plot(range(0, epochs), acc, label='binary_accuracy')\n",
    "    ax2.plot(range(0, epochs), val_acc, label='val_binary_accuracy')\n",
    "    ax2.set_title('train and validation binary accuracy')\n",
    "    ax2.legend(loc='lower right')\n",
    "\n",
    "    plt.show()"
   ]
  },
  {
   "cell_type": "code",
   "execution_count": null,
   "metadata": {
    "id": "17PSbQbg0JgW"
   },
   "outputs": [],
   "source": [
    "def show_predictions(raw, gt, pred):\n",
    "    \n",
    "    thresh = 0.9\n",
    "    max_values = np.max(pred[:,0], axis=(1, 2))\n",
    "    if np.any(max_values < thresh):\n",
    "        print(\"Heads up: If prediction is below {} then the prediction map is shown.\".format(thresh))\n",
    "        print(\"Max predictions: {}\".format(max_values))\n",
    "    \n",
    "    num_samples = pred.shape[0]\n",
    "    fig, ax = plt.subplots(num_samples, 3, sharex=True, sharey=True, figsize=(12, num_samples * 4))\n",
    "    for i in range(num_samples):\n",
    "        ax[i, 0].imshow(raw[i,0], aspect=\"auto\")\n",
    "        ax[i, 1].imshow(gt[i,0], aspect=\"auto\")\n",
    "        # check for prediction threshold\n",
    "        if np.sum(max_values[i]) < thresh:\n",
    "            ax[i, 2].imshow(pred[i,0], aspect=\"auto\")\n",
    "        else:\n",
    "            ax[i, 2].imshow(pred[i,0] >= thresh, aspect=\"auto\")\n",
    "\n",
    "    ax[0, 0].set_title(\"Input\")\n",
    "    ax[0, 1].set_title(\"Ground truth\")\n",
    "    ax[0, 2].set_title(\"Prediction\")\n",
    "    fig.tight_layout()"
   ]
  },
  {
   "cell_type": "markdown",
   "metadata": {
    "id": "giHBadbz0JgX"
   },
   "source": [
    "## (1) Load and visualize our toy data examples:\n",
    "\n",
    "\n",
    "we have 12 train samples, 3 validation samples and 3 test samples."
   ]
  },
  {
   "cell_type": "code",
   "execution_count": null,
   "metadata": {
    "id": "JZ1j8gBQ0JgY"
   },
   "outputs": [],
   "source": [
    "# load tif images and reformat it\n",
    "def load_dataset(in_folder):\n",
    "    x = []\n",
    "    y = []\n",
    "    raw_files = glob.glob(in_folder + '/raw_*.tif')\n",
    "    for raw_file in raw_files:\n",
    "        x.append(io.imread(raw_file)) \n",
    "        y.append(io.imread(raw_file.replace('raw', 'gt'))) \n",
    "    x = np.array(x)[:, np.newaxis] #shape [N, 1, H, W]\n",
    "    y = np.array(y)[:, np.newaxis] #shape [N, 1, H, W]\n",
    "    return x, y"
   ]
  },
  {
   "cell_type": "code",
   "execution_count": null,
   "metadata": {
    "id": "pwMwSdVu0JgZ"
   },
   "outputs": [],
   "source": [
    "# load data into train/val/test sets\n",
    "x_train, y_train = load_dataset('example_toy_data/train')\n",
    "x_val, y_val = load_dataset('example_toy_data/val')\n",
    "x_test, y_test = load_dataset('example_toy_data/test')\n",
    "\n",
    "batch_size = 4\n",
    "# make dataloaders\n",
    "train_loader = DataLoader(list(zip(x_train, y_train)), batch_size=batch_size, shuffle=True, pin_memory=True)\n",
    "val_loader = DataLoader(list(zip(x_val, y_val)), batch_size=1, pin_memory=True)\n",
    "test_loader = DataLoader(list(zip(x_test, y_test)), batch_size=1)"
   ]
  },
  {
   "cell_type": "code",
   "execution_count": null,
   "metadata": {
    "colab": {
     "base_uri": "https://localhost:8080/",
     "height": 873
    },
    "executionInfo": {
     "elapsed": 5948,
     "status": "ok",
     "timestamp": 1630750135824,
     "user": {
      "displayName": "Xiaoyan Yu",
      "photoUrl": "https://lh3.googleusercontent.com/a-/AOh14Ggw0PTStQ9tiPNbL0y2m0TgTpIWdEdStBwCE40RoA=s64",
      "userId": "10350941819137867087"
     },
     "user_tz": -120
    },
    "id": "RtYZle6T0Jga",
    "outputId": "3efc38ce-e989-474a-9272-8598cd87e49a"
   },
   "outputs": [],
   "source": [
    "# show training examples\n",
    "num_samples = 3\n",
    "fig, ax = plt.subplots(num_samples, 2, sharey=True, figsize=(8, num_samples * 4))\n",
    "for i in range(num_samples):\n",
    "    ax[i, 0].imshow(x_train[i,0], aspect=\"auto\")\n",
    "    ax[i, 1].imshow(y_train[i,0], aspect=\"auto\")\n",
    "ax[0, 0].set_title(\"Input\")\n",
    "ax[0, 1].set_title(\"Ground truth\")\n",
    "fig.tight_layout()"
   ]
  },
  {
   "cell_type": "markdown",
   "metadata": {},
   "source": [
    "## (2) #TODO: Create and train our model\n",
    "\n",
    "This model is composed by stacking one UNet instance and one convolution layer. The UNet Class is defined in the **unet_fov.py** file and we use the default setting that the number of feature maps of the UNet instance output will be eqaul to the number of feature maps at the first convolution. Then we use one more convolution layer with kernel_size=1 to generate the final output with number of feature maps equal to what we want.\n",
    "\n",
    "For the meaning of parameters of the UNet class, please refer to the **unet_fov.py** file.\n",
    "\n",
    "#TODO:\n",
    "- 1.Define the output channels of the model\n",
    "- 2.Define the d_factor which is the downsampling_factor parameter of the UNet class. \n",
    "- 3.Define the activation parameter. Note: this activation parameter will be used in the later functions **training_step** and **predict**, don't confuse it with the activation parameter defined for the UNet class.\n",
    "- 4.Define an UNet which use same padding with depth=4, downsampling factor=2 for each dimension. Set the activation layers inside the UNet to be \"ReLU\" and use str as input."
   ]
  },
  {
   "cell_type": "code",
   "execution_count": null,
   "metadata": {
    "colab": {
     "base_uri": "https://localhost:8080/"
    },
    "executionInfo": {
     "elapsed": 1265,
     "status": "ok",
     "timestamp": 1630750139728,
     "user": {
      "displayName": "Xiaoyan Yu",
      "photoUrl": "https://lh3.googleusercontent.com/a-/AOh14Ggw0PTStQ9tiPNbL0y2m0TgTpIWdEdStBwCE40RoA=s64",
      "userId": "10350941819137867087"
     },
     "user_tz": -120
    },
    "id": "z3qWOIi30Jgc",
    "outputId": "e3340fea-6714-4c03-ca75-f81b8e1ce8e0"
   },
   "outputs": [],
   "source": [
    "# set seed\n",
    "torch.manual_seed(42)\n",
    "\n",
    "###########################################################################\n",
    "# TODO: Define the net and uncomment the following code                   #                     \n",
    "###########################################################################\n",
    "# *****START OF YOUR CODE (DO NOT DELETE/MODIFY THIS LINE)*****\n",
    "\n",
    "\n",
    "# out_channels = \n",
    "# d_factors =\n",
    "# activation = \n",
    "\n",
    "# net = torch.nn.Sequential(\n",
    "#     UNet(in_channels=,\n",
    "#     num_fmaps=,\n",
    "#     fmap_inc_factors=,\n",
    "#     downsample_factors=d_factors,\n",
    "#     activation='ReLU',\n",
    "#     padding=,\n",
    "#     num_fmaps_out=,\n",
    "#     constant_upsample=False\n",
    "#     ),\n",
    "#     torch.nn.Conv2d(in_channels=, out_channels=out_channels, kernel_size=1, padding=0, bias=True))\n",
    "\n",
    "# *****END OF YOUR CODE (DO NOT DELETE/MODIFY THIS LINE)*****\n",
    "###########################################################################\n",
    "#                             END OF YOUR CODE                            #\n",
    "###########################################################################\n",
    "receptive_field, _ = net[0].get_fov()\n",
    "\n",
    "# print network layers\n",
    "device = torch.device(\"cuda:0\" if torch.cuda.is_available() else \"cpu\")\n",
    "net = net.to(device)\n",
    "summary(net, (1,512,512))\n",
    "print(\"Receptive field: \", receptive_field)"
   ]
  },
  {
   "cell_type": "markdown",
   "metadata": {
    "id": "y6sszkYN0Jgd"
   },
   "source": [
    "### Receptive Field of View\n",
    "\n",
    "The number of convolutions and the depth of the U-Net are the major factors in determining the \n",
    "receptive field of the network. The term is borrowed from biology where it describes the \"portion of sensory space that can elicit neuronal responses when stimulated\" (wikipedia). Each output pixel can look at/depends on an input patch with that diameter centered at its position.\n",
    "Based on this patch, the network has to be able to make a decision about the prediction for the respective pixel.\n",
    "Yet larger sizes increase the computation time significantly.\n",
    "\n",
    "The following code snippet visualizes the field of view of the center pixel for networks with varying depth."
   ]
  },
  {
   "cell_type": "code",
   "execution_count": null,
   "metadata": {
    "colab": {
     "base_uri": "https://localhost:8080/",
     "height": 557
    },
    "executionInfo": {
     "elapsed": 1250,
     "status": "ok",
     "timestamp": 1630750144941,
     "user": {
      "displayName": "Xiaoyan Yu",
      "photoUrl": "https://lh3.googleusercontent.com/a-/AOh14Ggw0PTStQ9tiPNbL0y2m0TgTpIWdEdStBwCE40RoA=s64",
      "userId": "10350941819137867087"
     },
     "user_tz": -120
    },
    "id": "glMR-h-50Jge",
    "outputId": "f2a05b2a-e22e-43fd-fc0d-5794565908d1"
   },
   "outputs": [],
   "source": [
    "rnd = random.randrange(len(x_train))\n",
    "image = x_train[rnd]\n",
    "label = y_train[rnd]\n",
    "\n",
    "\n",
    "net_t = image\n",
    "fovs = []\n",
    "d_factors = [[2,2],[2,2],[2,2],[2,2]]\n",
    "\n",
    "for level in range(len(d_factors)):\n",
    "    fov_tmp, _ = net[0].rec_fov(level , (1, 1), 1)\n",
    "    fovs.append(fov_tmp[0])\n",
    "\n",
    "image = np.squeeze(image)\n",
    "fig=plt.figure(figsize=(8, 8))\n",
    "colors = [\"yellow\", \"red\", \"green\", \"blue\", \"magenta\"]\n",
    "plt.imshow(image, cmap='gray')\n",
    "for idx, fov_t in enumerate(fovs):\n",
    "    print(\"Field of view at depth {}: {:3d} (color: {})\".format(idx+1, fov_t, colors[idx]))\n",
    "    xmin = image.shape[1]/2 - fov_t/2\n",
    "    xmax = image.shape[1]/2 + fov_t/2\n",
    "    ymin = image.shape[1]/2 - fov_t/2\n",
    "    ymax = image.shape[1]/2 + fov_t/2\n",
    "    plt.hlines(ymin, xmin, xmax, color=colors[idx], lw=3)\n",
    "    plt.hlines(ymax, xmin, xmax, color=colors[idx], lw=3)\n",
    "    plt.vlines(xmin, ymin, ymax, color=colors[idx], lw=3)\n",
    "    plt.vlines(xmax, ymin, ymax, color=colors[idx], lw=3)\n",
    "plt.show()"
   ]
  },
  {
   "cell_type": "markdown",
   "metadata": {},
   "source": [
    "### TODO: Define the functions for training\n",
    "In the training process of semantic segmentation scenario, we usally will record two basic criteria, loss and pixel accuracy.\n",
    "The loss function we use here is the Binary Cross Entropy with the sigmoid function before it.\n",
    "The pixel accuracy, or accuracy for short, refers to the percent of pixels in the image which were correctly classified.\n",
    "\n",
    "#TODO:\n",
    "- 1.Define the **calc_accuracy** function according to the activation parameter you define before.This function should calculate the pixel accuracy of the prediction results average on one batch.\n",
    "- 2.Call the **train** function to start the training."
   ]
  },
  {
   "cell_type": "code",
   "execution_count": null,
   "metadata": {},
   "outputs": [],
   "source": [
    "###########################################################################\n",
    "# TODO:  calc_accuracy function                                           #                     \n",
    "###########################################################################\n",
    "# *****START OF YOUR CODE (DO NOT DELETE/MODIFY THIS LINE)*****\n",
    "\n",
    "def calc_accuracy(y_pred, y_true):\n",
    "    # Please remember to get the mean accuracy of one batch\n",
    "    return \n",
    "\n",
    "\n",
    "# *****END OF YOUR CODE (DO NOT DELETE/MODIFY THIS LINE)*****\n",
    "###########################################################################\n",
    "#                             END OF YOUR CODE                            #\n",
    "###########################################################################"
   ]
  },
  {
   "cell_type": "code",
   "execution_count": null,
   "metadata": {
    "id": "iPPKJa_x0Jge",
    "scrolled": true
   },
   "outputs": [],
   "source": [
    "dtype = torch.FloatTensor\n",
    "def training_step(model, loss_fn, optimizer, feature, label):\n",
    "    # speedup version of setting gradients to zero\n",
    "    for param in model.parameters():\n",
    "        param.grad = None\n",
    "    # forward\n",
    "    logits = model(feature) # B x C x H x W\n",
    "    loss_value = loss_fn(input=logits, target=label) # label.squeeze(0) for three_class\n",
    "    # backward if training mode\n",
    "    if net.training:\n",
    "        loss_value.backward()\n",
    "        optimizer.step()\n",
    "    if activation is not None:\n",
    "        output = activation(logits)\n",
    "    else:\n",
    "        output = logits\n",
    "    outputs = {\n",
    "        'pred': output,\n",
    "        'logits': logits,\n",
    "    }\n",
    "    return loss_value, outputs\n",
    "\n",
    "def train(net, epochs, learning_rate,start_epoch=0, optimizer=None, history=None, early_stopping=None):\n",
    "    device = torch.device(\"cuda:0\" if torch.cuda.is_available() else \"cpu\")\n",
    "    net = net.to(device)\n",
    "    loss_fn = torch.nn.BCEWithLogitsLoss()\n",
    "    loss_fn = loss_fn.to(device)\n",
    "    # set optimizer\n",
    "    if optimizer is None:\n",
    "        optimizer = torch.optim.Adam(net.parameters(), lr=learning_rate) \n",
    "    if history is None:\n",
    "        history = {'loss':[],\n",
    "                  'val_loss':[],\n",
    "                  'binary_accuracy':[],\n",
    "                  'val_binary_accuracy':[]}\n",
    "   \n",
    "    pbar = tqdm(total=epochs*len(train_loader))\n",
    "    for epoch in range(0, epochs):\n",
    "    #for epoch in tqdm(range(0, epochs)):\n",
    "        # reset data loader to get random augmentations\n",
    "        np.random.seed()\n",
    "        tmp_loader = iter(train_loader)\n",
    "        train_acc_loss = []\n",
    "        train_acc_accuracy = []\n",
    "        net.train()\n",
    "        for feature, label in tmp_loader:\n",
    "            label = label.type(dtype)\n",
    "            label = label.to(device)\n",
    "            feature = feature.to(device)\n",
    "            loss_value, outputs = training_step(net, loss_fn, optimizer, feature, label)\n",
    "            pbar.update(1)\n",
    "            train_acc_loss.append(loss_value.cpu().detach().numpy())\n",
    "            accuracy = calc_accuracy(outputs['pred'], label)\n",
    "            train_acc_accuracy.append(float(accuracy.cpu().detach().numpy()))\n",
    "        history['loss'].append(np.mean(train_acc_loss))\n",
    "        history['binary_accuracy'].append(np.mean(train_acc_accuracy))\n",
    "        # validation\n",
    "        net.eval()\n",
    "        tmp_val_loader = iter(val_loader)\n",
    "        val_acc_loss = []\n",
    "        val_acc_accuracy = []\n",
    "        for feature, label in tmp_val_loader:                    \n",
    "            label = label.type(dtype)\n",
    "            label = label.to(device)\n",
    "            feature = feature.to(device)\n",
    "            loss_value, outputs = training_step(net, loss_fn, optimizer, feature, label)\n",
    "            val_acc_loss.append(loss_value.cpu().detach().numpy())\n",
    "            accuracy = calc_accuracy(outputs['pred'], label)\n",
    "            val_acc_accuracy.append(float(accuracy.cpu().detach().numpy()))\n",
    "        history['val_loss'].append(np.mean(val_acc_loss))\n",
    "        history['val_binary_accuracy'].append(np.mean(val_acc_accuracy))\n",
    "        if early_stopping:\n",
    "            #early_stopping(np.mean(acc_loss))\n",
    "            early_stopping(np.mean(val_acc_loss))\n",
    "            if early_stopping.early_stop:\n",
    "                print('Early stopping after epoch', epoch)\n",
    "                break\n",
    "        print(f'Epoch {epoch+start_epoch+1}, train-loss: {np.mean(train_acc_loss):.4f} - train_accuracy:{np.mean(train_acc_accuracy):.4f}'+\n",
    "      f' - val_loss:{np.mean(val_acc_loss):.4f} -val_accuracy:{np.mean(val_acc_accuracy):.4f}')\n",
    "    return net, history, optimizer"
   ]
  },
  {
   "cell_type": "code",
   "execution_count": null,
   "metadata": {
    "colab": {
     "base_uri": "https://localhost:8080/",
     "height": 1000,
     "referenced_widgets": [
      "03e03c0d81804e5ea0d55625d51c5486",
      "d2c0e259d4e14d5ba8e540d7787e751a",
      "87d2d42297f34487b03d361914d00e35",
      "36f3e0c1dffc4d188f40d18eb3c554ec",
      "9c2ec33c8eb94e1f80542cfd6dd49140",
      "28a37425f0a74e48bcb5a47e53239875",
      "1bc627768ef340bbb04b20040cf71255",
      "335398ff44af45429de7d7913a551d9d",
      "0d31999eda834dfa973e9c35c3cfe2f2",
      "289fe6d816d24a709c7a4fb68a20239a",
      "9ddb33e70fe240119d707575372f4daa"
     ]
    },
    "executionInfo": {
     "elapsed": 710700,
     "status": "ok",
     "timestamp": 1630750878370,
     "user": {
      "displayName": "Xiaoyan Yu",
      "photoUrl": "https://lh3.googleusercontent.com/a-/AOh14Ggw0PTStQ9tiPNbL0y2m0TgTpIWdEdStBwCE40RoA=s64",
      "userId": "10350941819137867087"
     },
     "user_tz": -120
    },
    "id": "eKkCB22t0Jgf",
    "outputId": "6d9c6353-590d-433e-a630-88ffb14b6118",
    "scrolled": true
   },
   "outputs": [],
   "source": [
    "num_epochs1 = 250\n",
    "###########################################################################\n",
    "# TODO:  train the net without using early_stopping                       #                     \n",
    "###########################################################################\n",
    "# *****START OF YOUR CODE (DO NOT DELETE/MODIFY THIS LINE)*****\n",
    "\n",
    "# net, history, optimizer = train(net, num_epochs1,...)\n",
    "\n",
    "# *****END OF YOUR CODE (DO NOT DELETE/MODIFY THIS LINE)*****\n",
    "###########################################################################\n",
    "#                             END OF YOUR CODE                            #\n",
    "###########################################################################"
   ]
  },
  {
   "cell_type": "code",
   "execution_count": null,
   "metadata": {
    "colab": {
     "base_uri": "https://localhost:8080/",
     "height": 336
    },
    "executionInfo": {
     "elapsed": 912,
     "status": "ok",
     "timestamp": 1630750885797,
     "user": {
      "displayName": "Xiaoyan Yu",
      "photoUrl": "https://lh3.googleusercontent.com/a-/AOh14Ggw0PTStQ9tiPNbL0y2m0TgTpIWdEdStBwCE40RoA=s64",
      "userId": "10350941819137867087"
     },
     "user_tz": -120
    },
    "id": "J-N2y3540Jgg",
    "outputId": "0c467b71-91eb-401d-c68a-deef4e6a43eb"
   },
   "outputs": [],
   "source": [
    "# plot loss and accuracy\n",
    "plot_history(history)"
   ]
  },
  {
   "cell_type": "markdown",
   "metadata": {
    "id": "MsTq-oqd0Jgg"
   },
   "source": [
    "## (3) Test and evaluate our model"
   ]
  },
  {
   "cell_type": "code",
   "execution_count": null,
   "metadata": {
    "colab": {
     "base_uri": "https://localhost:8080/",
     "height": 890
    },
    "executionInfo": {
     "elapsed": 6380,
     "status": "ok",
     "timestamp": 1630750927184,
     "user": {
      "displayName": "Xiaoyan Yu",
      "photoUrl": "https://lh3.googleusercontent.com/a-/AOh14Ggw0PTStQ9tiPNbL0y2m0TgTpIWdEdStBwCE40RoA=s64",
      "userId": "10350941819137867087"
     },
     "user_tz": -120
    },
    "id": "5p374tUo0Jgg",
    "outputId": "e0671d18-5b23-495a-a6f9-31f3369c0474"
   },
   "outputs": [],
   "source": [
    "# predict the test set\n",
    "def predict(net, test_loader):\n",
    "    net.eval()\n",
    "    predictions = []\n",
    "    acc_accuracy = []\n",
    "    for image, label in test_loader:\n",
    "        image = image.to(device)\n",
    "        label = label.to(device)\n",
    "        pred = net(image)\n",
    "        pred = activation(pred)\n",
    "        accuracy = calc_accuracy(pred, label)\n",
    "        acc_accuracy.append(float(accuracy.cpu().detach().numpy()))\n",
    "        image = np.squeeze(image.cpu())\n",
    "        pred = np.squeeze(pred.cpu().detach().numpy(),0)\n",
    "        predictions.append(pred)\n",
    "    return predictions, float(np.mean(acc_accuracy))\n",
    "    \n",
    "# plot predicted results\n",
    "predictions, mean_accuracy = predict(net, test_loader)\n",
    "predictions = np.stack(predictions, axis=0)\n",
    "print('Accuracy: {:.3f}'.format(mean_accuracy))\n",
    "show_predictions(x_test, y_test, predictions)"
   ]
  },
  {
   "cell_type": "markdown",
   "metadata": {
    "id": "0AkfsRLX0Jgg"
   },
   "source": [
    "### A1: #TODO: Continue training for more epochs"
   ]
  },
  {
   "cell_type": "code",
   "execution_count": null,
   "metadata": {
    "colab": {
     "base_uri": "https://localhost:8080/",
     "height": 1000,
     "referenced_widgets": [
      "d274cc89c86f40f6b9c479074e0de0ac",
      "883cf29824be41bea84496a4c5d41f6b",
      "77d73144621f4f4eb2cb39a346e7d093",
      "d9e098be80f041c7baf8a91c17d7c3eb",
      "9e8e788dda954b2a8b0768014c179c96",
      "0bf3983958934e0c9ef965953a62a7d5",
      "0e27805b5257437cad57adaf42e3500d",
      "98cf8395137e4adda75d556c726f6b63",
      "388fbf65508147d6ba1e4886238a6c63",
      "5eb5ab5481df4b13af5cee0f511adb98",
      "cf999fef3fca415eade6d478b62fb01e"
     ]
    },
    "executionInfo": {
     "elapsed": 1882532,
     "status": "ok",
     "timestamp": 1630752854302,
     "user": {
      "displayName": "Xiaoyan Yu",
      "photoUrl": "https://lh3.googleusercontent.com/a-/AOh14Ggw0PTStQ9tiPNbL0y2m0TgTpIWdEdStBwCE40RoA=s64",
      "userId": "10350941819137867087"
     },
     "user_tz": -120
    },
    "id": "A9rj1GfE0Jgh",
    "outputId": "6e26442c-7207-44aa-c9ea-67cc15a9ab00",
    "scrolled": true
   },
   "outputs": [],
   "source": [
    "# continue training, takes ~3min\n",
    "# heads up: the \"net\" variable still carries all the information from the previous training\n",
    "num_epochs2=160\n",
    "###########################################################################\n",
    "# TODO:  continue to train the net without using early_stopping           #   \n",
    "# remember to give the history parameter this time                        # \n",
    "###########################################################################\n",
    "# *****START OF YOUR CODE (DO NOT DELETE/MODIFY THIS LINE)*****\n",
    "\n",
    "# net, history, optimizer = train(net, num_epochs2,...)\n",
    "\n",
    "# *****END OF YOUR CODE (DO NOT DELETE/MODIFY THIS LINE)*****\n",
    "###########################################################################\n",
    "#                             END OF YOUR CODE                            #\n",
    "###########################################################################\n",
    "\n",
    "\n",
    "print('Finished Training')"
   ]
  },
  {
   "cell_type": "code",
   "execution_count": null,
   "metadata": {
    "colab": {
     "base_uri": "https://localhost:8080/",
     "height": 336
    },
    "executionInfo": {
     "elapsed": 945,
     "status": "ok",
     "timestamp": 1630753028849,
     "user": {
      "displayName": "Xiaoyan Yu",
      "photoUrl": "https://lh3.googleusercontent.com/a-/AOh14Ggw0PTStQ9tiPNbL0y2m0TgTpIWdEdStBwCE40RoA=s64",
      "userId": "10350941819137867087"
     },
     "user_tz": -120
    },
    "id": "SIDQ6YG10Jgh",
    "outputId": "a1e472a3-4c64-4658-c0ee-0fa0f1216d14"
   },
   "outputs": [],
   "source": [
    "# plot loss and accuracy\n",
    "plot_history(history)"
   ]
  },
  {
   "cell_type": "code",
   "execution_count": null,
   "metadata": {
    "colab": {
     "base_uri": "https://localhost:8080/",
     "height": 890
    },
    "executionInfo": {
     "elapsed": 6486,
     "status": "ok",
     "timestamp": 1630753052830,
     "user": {
      "displayName": "Xiaoyan Yu",
      "photoUrl": "https://lh3.googleusercontent.com/a-/AOh14Ggw0PTStQ9tiPNbL0y2m0TgTpIWdEdStBwCE40RoA=s64",
      "userId": "10350941819137867087"
     },
     "user_tz": -120
    },
    "id": "LTLx-X_Y0Jgi",
    "outputId": "ce2c3278-3dc8-45bb-95e6-039d00ba4e66"
   },
   "outputs": [],
   "source": [
    "# evaluate and plot predicted results\n",
    "predictions, mean_accuracy = predict(net, test_loader)\n",
    "predictions = np.stack(predictions, axis=0)\n",
    "print('Accuracy: {:.3f}'.format(mean_accuracy))\n",
    "show_predictions(x_test, y_test, predictions)"
   ]
  },
  {
   "cell_type": "markdown",
   "metadata": {
    "id": "IjY1oSIP0Jgi"
   },
   "source": [
    "#### The training of the networks depend on many hyperparameters such as\n",
    "- network architecture: #layers, #fmaps\n",
    "- batch size, learning rate\n",
    "- number and distribution of the training samples\n",
    "\n",
    "#### You can play and see how these settings influence the learning curve.\n",
    "![image.png](utils/example_learning_curves/lc_all.png)"
   ]
  },
  {
   "cell_type": "markdown",
   "metadata": {
    "id": "DIW2q_ON0Jgi"
   },
   "source": [
    "![](example_learning_curves/lc_all.png)"
   ]
  },
  {
   "cell_type": "markdown",
   "metadata": {
    "id": "MQamrEk90Jgj"
   },
   "source": [
    "### A2:  #TODO: Use early stopping to avoid overfitting\n",
    "#TODO:\n",
    "- 1.Define the net.\n",
    "- 2.Look the EarlyStopping Class defined below and create an EarlyStopping instance.\n",
    "- 3.Train the net with early-stopping function working."
   ]
  },
  {
   "cell_type": "code",
   "execution_count": null,
   "metadata": {
    "id": "diN1VvI_0Jgj",
    "scrolled": true
   },
   "outputs": [],
   "source": [
    "class EarlyStopping():\n",
    "    \"\"\"\n",
    "    Early stopping to stop the training when the loss does not improve after\n",
    "    certain epochs.\n",
    "    Code from https://debuggercafe.com/using-learning-rate-scheduler-and-early-stopping-with-pytorch/\n",
    "    \"\"\"\n",
    "    def __init__(self, patience=20, min_delta=0):\n",
    "        \"\"\"\n",
    "        :param patience: how many epochs to wait before stopping when loss is\n",
    "               not improving\n",
    "        :param min_delta: minimum difference between new loss and old loss for\n",
    "               new loss to be considered as an improvement\n",
    "        \"\"\"\n",
    "        self.patience = patience\n",
    "        self.min_delta = min_delta\n",
    "        self.counter = 0\n",
    "        self.best_loss = None\n",
    "        self.early_stop = False\n",
    "\n",
    "    def __call__(self, val_loss):\n",
    "        if self.best_loss == None:\n",
    "            self.best_loss = val_loss\n",
    "        elif self.best_loss - val_loss > self.min_delta:\n",
    "            self.best_loss = val_loss\n",
    "            self.counter = 0\n",
    "        elif self.best_loss - val_loss < self.min_delta:\n",
    "            self.counter += 1\n",
    "            if self.counter >= self.patience:\n",
    "                self.early_stop = True"
   ]
  },
  {
   "cell_type": "code",
   "execution_count": null,
   "metadata": {
    "id": "bujbfhge0Jgj"
   },
   "outputs": [],
   "source": [
    "# define model\n",
    "\n",
    "###########################################################################\n",
    "# TODO: Define the net and uncomment the following code                   #\n",
    "# You can basically copy the code that you use to define the net before   # \n",
    "# Please also define the early_stopping                                   # \n",
    "###########################################################################\n",
    "# *****START OF YOUR CODE (DO NOT DELETE/MODIFY THIS LINE)*****\n",
    "\n",
    "\n",
    "# out_channels = \n",
    "# d_factors =\n",
    "# activation = \n",
    "# early_stopping = \n",
    "\n",
    "# net = torch.nn.Sequential(\n",
    "#     UNet(in_channels=,\n",
    "#     num_fmaps=,\n",
    "#     fmap_inc_factors=,\n",
    "#     downsample_factors=d_factors,\n",
    "#     activation='ReLU',\n",
    "#     padding=,\n",
    "#     num_fmaps_out=,\n",
    "#     constant_upsample=False\n",
    "#     ),\n",
    "#     torch.nn.Conv2d(in_channels=, out_channels=out_channels, kernel_size=1, padding=0, bias=True))\n",
    "\n",
    "# *****END OF YOUR CODE (DO NOT DELETE/MODIFY THIS LINE)*****\n",
    "###########################################################################\n",
    "#                             END OF YOUR CODE                            #\n",
    "###########################################################################\n"
   ]
  },
  {
   "cell_type": "code",
   "execution_count": null,
   "metadata": {
    "colab": {
     "referenced_widgets": [
      "9f833f5df24f4976a301fdbd34a694fd"
     ]
    },
    "id": "gIucxC2Y0Jgj",
    "outputId": "2e73ec6b-96c3-4c0f-ed54-3d6192307c1d"
   },
   "outputs": [],
   "source": [
    "# train model\n",
    "epochs = 500\n",
    "###########################################################################\n",
    "# TODO:  train the net and use early_stopping                             #   \n",
    "###########################################################################\n",
    "# *****START OF YOUR CODE (DO NOT DELETE/MODIFY THIS LINE)*****\n",
    "\n",
    "# net, history_w_ea,_ = train(net, epochs,...)\n",
    "\n",
    "# *****END OF YOUR CODE (DO NOT DELETE/MODIFY THIS LINE)*****\n",
    "###########################################################################\n",
    "#                             END OF YOUR CODE                            #\n",
    "###########################################################################\n",
    "print('Finished Training')"
   ]
  },
  {
   "cell_type": "code",
   "execution_count": null,
   "metadata": {
    "id": "nhoiBxAH0Jgj",
    "outputId": "8ef1a040-b973-4e92-b0e8-959b87947cce"
   },
   "outputs": [],
   "source": [
    "# plot loss and accuracy\n",
    "plot_history(history_w_ea)"
   ]
  },
  {
   "cell_type": "code",
   "execution_count": null,
   "metadata": {
    "id": "L9sLHek_0Jgk",
    "outputId": "51f5e470-d005-4fee-8aaa-a49eb6795b4c",
    "scrolled": true
   },
   "outputs": [],
   "source": [
    "# evaluate and plot predicted results\n",
    "predictions, mean_accuracy = predict(net, test_loader)\n",
    "predictions = np.stack(predictions, axis=0)\n",
    "print('Accuracy: {:.3f}'.format(mean_accuracy))\n",
    "show_predictions(x_test, y_test, predictions)"
   ]
  }
 ],
 "metadata": {
  "colab": {
   "collapsed_sections": [],
   "name": "foreground_segmentation.ipynb",
   "provenance": []
  },
  "kernelspec": {
   "display_name": "Python 3 (ipykernel)",
   "language": "python",
   "name": "python3"
  },
  "language_info": {
   "codemirror_mode": {
    "name": "ipython",
    "version": 3
   },
   "file_extension": ".py",
   "mimetype": "text/x-python",
   "name": "python",
   "nbconvert_exporter": "python",
   "pygments_lexer": "ipython3",
   "version": "3.9.7"
  },
  "widgets": {
   "application/vnd.jupyter.widget-state+json": {
    "03e03c0d81804e5ea0d55625d51c5486": {
     "model_module": "@jupyter-widgets/controls",
     "model_module_version": "1.5.0",
     "model_name": "HBoxModel",
     "state": {
      "_dom_classes": [],
      "_model_module": "@jupyter-widgets/controls",
      "_model_module_version": "1.5.0",
      "_model_name": "HBoxModel",
      "_view_count": null,
      "_view_module": "@jupyter-widgets/controls",
      "_view_module_version": "1.5.0",
      "_view_name": "HBoxView",
      "box_style": "",
      "children": [
       "IPY_MODEL_87d2d42297f34487b03d361914d00e35",
       "IPY_MODEL_36f3e0c1dffc4d188f40d18eb3c554ec",
       "IPY_MODEL_9c2ec33c8eb94e1f80542cfd6dd49140"
      ],
      "layout": "IPY_MODEL_d2c0e259d4e14d5ba8e540d7787e751a"
     }
    },
    "06a46ee9a8344834b564b007e96b34e2": {
     "model_module": "@jupyter-widgets/base",
     "model_module_version": "1.2.0",
     "model_name": "LayoutModel",
     "state": {
      "_model_module": "@jupyter-widgets/base",
      "_model_module_version": "1.2.0",
      "_model_name": "LayoutModel",
      "_view_count": null,
      "_view_module": "@jupyter-widgets/base",
      "_view_module_version": "1.2.0",
      "_view_name": "LayoutView",
      "align_content": null,
      "align_items": null,
      "align_self": null,
      "border": null,
      "bottom": null,
      "display": null,
      "flex": null,
      "flex_flow": null,
      "grid_area": null,
      "grid_auto_columns": null,
      "grid_auto_flow": null,
      "grid_auto_rows": null,
      "grid_column": null,
      "grid_gap": null,
      "grid_row": null,
      "grid_template_areas": null,
      "grid_template_columns": null,
      "grid_template_rows": null,
      "height": null,
      "justify_content": null,
      "justify_items": null,
      "left": null,
      "margin": null,
      "max_height": null,
      "max_width": null,
      "min_height": null,
      "min_width": null,
      "object_fit": null,
      "object_position": null,
      "order": null,
      "overflow": null,
      "overflow_x": null,
      "overflow_y": null,
      "padding": null,
      "right": null,
      "top": null,
      "visibility": null,
      "width": null
     }
    },
    "06ceb796d313496e85c517c3b78201d9": {
     "model_module": "@jupyter-widgets/controls",
     "model_module_version": "1.5.0",
     "model_name": "ProgressStyleModel",
     "state": {
      "_model_module": "@jupyter-widgets/controls",
      "_model_module_version": "1.5.0",
      "_model_name": "ProgressStyleModel",
      "_view_count": null,
      "_view_module": "@jupyter-widgets/base",
      "_view_module_version": "1.2.0",
      "_view_name": "StyleView",
      "bar_color": null,
      "description_width": ""
     }
    },
    "0bf3983958934e0c9ef965953a62a7d5": {
     "model_module": "@jupyter-widgets/controls",
     "model_module_version": "1.5.0",
     "model_name": "DescriptionStyleModel",
     "state": {
      "_model_module": "@jupyter-widgets/controls",
      "_model_module_version": "1.5.0",
      "_model_name": "DescriptionStyleModel",
      "_view_count": null,
      "_view_module": "@jupyter-widgets/base",
      "_view_module_version": "1.2.0",
      "_view_name": "StyleView",
      "description_width": ""
     }
    },
    "0d31999eda834dfa973e9c35c3cfe2f2": {
     "model_module": "@jupyter-widgets/base",
     "model_module_version": "1.2.0",
     "model_name": "LayoutModel",
     "state": {
      "_model_module": "@jupyter-widgets/base",
      "_model_module_version": "1.2.0",
      "_model_name": "LayoutModel",
      "_view_count": null,
      "_view_module": "@jupyter-widgets/base",
      "_view_module_version": "1.2.0",
      "_view_name": "LayoutView",
      "align_content": null,
      "align_items": null,
      "align_self": null,
      "border": null,
      "bottom": null,
      "display": null,
      "flex": null,
      "flex_flow": null,
      "grid_area": null,
      "grid_auto_columns": null,
      "grid_auto_flow": null,
      "grid_auto_rows": null,
      "grid_column": null,
      "grid_gap": null,
      "grid_row": null,
      "grid_template_areas": null,
      "grid_template_columns": null,
      "grid_template_rows": null,
      "height": null,
      "justify_content": null,
      "justify_items": null,
      "left": null,
      "margin": null,
      "max_height": null,
      "max_width": null,
      "min_height": null,
      "min_width": null,
      "object_fit": null,
      "object_position": null,
      "order": null,
      "overflow": null,
      "overflow_x": null,
      "overflow_y": null,
      "padding": null,
      "right": null,
      "top": null,
      "visibility": null,
      "width": null
     }
    },
    "0e27805b5257437cad57adaf42e3500d": {
     "model_module": "@jupyter-widgets/base",
     "model_module_version": "1.2.0",
     "model_name": "LayoutModel",
     "state": {
      "_model_module": "@jupyter-widgets/base",
      "_model_module_version": "1.2.0",
      "_model_name": "LayoutModel",
      "_view_count": null,
      "_view_module": "@jupyter-widgets/base",
      "_view_module_version": "1.2.0",
      "_view_name": "LayoutView",
      "align_content": null,
      "align_items": null,
      "align_self": null,
      "border": null,
      "bottom": null,
      "display": null,
      "flex": null,
      "flex_flow": null,
      "grid_area": null,
      "grid_auto_columns": null,
      "grid_auto_flow": null,
      "grid_auto_rows": null,
      "grid_column": null,
      "grid_gap": null,
      "grid_row": null,
      "grid_template_areas": null,
      "grid_template_columns": null,
      "grid_template_rows": null,
      "height": null,
      "justify_content": null,
      "justify_items": null,
      "left": null,
      "margin": null,
      "max_height": null,
      "max_width": null,
      "min_height": null,
      "min_width": null,
      "object_fit": null,
      "object_position": null,
      "order": null,
      "overflow": null,
      "overflow_x": null,
      "overflow_y": null,
      "padding": null,
      "right": null,
      "top": null,
      "visibility": null,
      "width": null
     }
    },
    "1bc627768ef340bbb04b20040cf71255": {
     "model_module": "@jupyter-widgets/base",
     "model_module_version": "1.2.0",
     "model_name": "LayoutModel",
     "state": {
      "_model_module": "@jupyter-widgets/base",
      "_model_module_version": "1.2.0",
      "_model_name": "LayoutModel",
      "_view_count": null,
      "_view_module": "@jupyter-widgets/base",
      "_view_module_version": "1.2.0",
      "_view_name": "LayoutView",
      "align_content": null,
      "align_items": null,
      "align_self": null,
      "border": null,
      "bottom": null,
      "display": null,
      "flex": null,
      "flex_flow": null,
      "grid_area": null,
      "grid_auto_columns": null,
      "grid_auto_flow": null,
      "grid_auto_rows": null,
      "grid_column": null,
      "grid_gap": null,
      "grid_row": null,
      "grid_template_areas": null,
      "grid_template_columns": null,
      "grid_template_rows": null,
      "height": null,
      "justify_content": null,
      "justify_items": null,
      "left": null,
      "margin": null,
      "max_height": null,
      "max_width": null,
      "min_height": null,
      "min_width": null,
      "object_fit": null,
      "object_position": null,
      "order": null,
      "overflow": null,
      "overflow_x": null,
      "overflow_y": null,
      "padding": null,
      "right": null,
      "top": null,
      "visibility": null,
      "width": null
     }
    },
    "22844fbef6f748c5b79a1986caaf67d5": {
     "model_module": "@jupyter-widgets/base",
     "model_module_version": "1.2.0",
     "model_name": "LayoutModel",
     "state": {
      "_model_module": "@jupyter-widgets/base",
      "_model_module_version": "1.2.0",
      "_model_name": "LayoutModel",
      "_view_count": null,
      "_view_module": "@jupyter-widgets/base",
      "_view_module_version": "1.2.0",
      "_view_name": "LayoutView",
      "align_content": null,
      "align_items": null,
      "align_self": null,
      "border": null,
      "bottom": null,
      "display": null,
      "flex": null,
      "flex_flow": null,
      "grid_area": null,
      "grid_auto_columns": null,
      "grid_auto_flow": null,
      "grid_auto_rows": null,
      "grid_column": null,
      "grid_gap": null,
      "grid_row": null,
      "grid_template_areas": null,
      "grid_template_columns": null,
      "grid_template_rows": null,
      "height": null,
      "justify_content": null,
      "justify_items": null,
      "left": null,
      "margin": null,
      "max_height": null,
      "max_width": null,
      "min_height": null,
      "min_width": null,
      "object_fit": null,
      "object_position": null,
      "order": null,
      "overflow": null,
      "overflow_x": null,
      "overflow_y": null,
      "padding": null,
      "right": null,
      "top": null,
      "visibility": null,
      "width": null
     }
    },
    "289fe6d816d24a709c7a4fb68a20239a": {
     "model_module": "@jupyter-widgets/controls",
     "model_module_version": "1.5.0",
     "model_name": "DescriptionStyleModel",
     "state": {
      "_model_module": "@jupyter-widgets/controls",
      "_model_module_version": "1.5.0",
      "_model_name": "DescriptionStyleModel",
      "_view_count": null,
      "_view_module": "@jupyter-widgets/base",
      "_view_module_version": "1.2.0",
      "_view_name": "StyleView",
      "description_width": ""
     }
    },
    "28a37425f0a74e48bcb5a47e53239875": {
     "model_module": "@jupyter-widgets/controls",
     "model_module_version": "1.5.0",
     "model_name": "DescriptionStyleModel",
     "state": {
      "_model_module": "@jupyter-widgets/controls",
      "_model_module_version": "1.5.0",
      "_model_name": "DescriptionStyleModel",
      "_view_count": null,
      "_view_module": "@jupyter-widgets/base",
      "_view_module_version": "1.2.0",
      "_view_name": "StyleView",
      "description_width": ""
     }
    },
    "32f4fbd4749f45b5aa08baffa58a8916": {
     "model_module": "@jupyter-widgets/controls",
     "model_module_version": "1.5.0",
     "model_name": "DescriptionStyleModel",
     "state": {
      "_model_module": "@jupyter-widgets/controls",
      "_model_module_version": "1.5.0",
      "_model_name": "DescriptionStyleModel",
      "_view_count": null,
      "_view_module": "@jupyter-widgets/base",
      "_view_module_version": "1.2.0",
      "_view_name": "StyleView",
      "description_width": ""
     }
    },
    "335398ff44af45429de7d7913a551d9d": {
     "model_module": "@jupyter-widgets/controls",
     "model_module_version": "1.5.0",
     "model_name": "ProgressStyleModel",
     "state": {
      "_model_module": "@jupyter-widgets/controls",
      "_model_module_version": "1.5.0",
      "_model_name": "ProgressStyleModel",
      "_view_count": null,
      "_view_module": "@jupyter-widgets/base",
      "_view_module_version": "1.2.0",
      "_view_name": "StyleView",
      "bar_color": null,
      "description_width": ""
     }
    },
    "36f3e0c1dffc4d188f40d18eb3c554ec": {
     "model_module": "@jupyter-widgets/controls",
     "model_module_version": "1.5.0",
     "model_name": "FloatProgressModel",
     "state": {
      "_dom_classes": [],
      "_model_module": "@jupyter-widgets/controls",
      "_model_module_version": "1.5.0",
      "_model_name": "FloatProgressModel",
      "_view_count": null,
      "_view_module": "@jupyter-widgets/controls",
      "_view_module_version": "1.5.0",
      "_view_name": "ProgressView",
      "bar_style": "",
      "description": "",
      "description_tooltip": null,
      "layout": "IPY_MODEL_0d31999eda834dfa973e9c35c3cfe2f2",
      "max": 180,
      "min": 0,
      "orientation": "horizontal",
      "style": "IPY_MODEL_335398ff44af45429de7d7913a551d9d",
      "value": 180
     }
    },
    "388fbf65508147d6ba1e4886238a6c63": {
     "model_module": "@jupyter-widgets/base",
     "model_module_version": "1.2.0",
     "model_name": "LayoutModel",
     "state": {
      "_model_module": "@jupyter-widgets/base",
      "_model_module_version": "1.2.0",
      "_model_name": "LayoutModel",
      "_view_count": null,
      "_view_module": "@jupyter-widgets/base",
      "_view_module_version": "1.2.0",
      "_view_name": "LayoutView",
      "align_content": null,
      "align_items": null,
      "align_self": null,
      "border": null,
      "bottom": null,
      "display": null,
      "flex": null,
      "flex_flow": null,
      "grid_area": null,
      "grid_auto_columns": null,
      "grid_auto_flow": null,
      "grid_auto_rows": null,
      "grid_column": null,
      "grid_gap": null,
      "grid_row": null,
      "grid_template_areas": null,
      "grid_template_columns": null,
      "grid_template_rows": null,
      "height": null,
      "justify_content": null,
      "justify_items": null,
      "left": null,
      "margin": null,
      "max_height": null,
      "max_width": null,
      "min_height": null,
      "min_width": null,
      "object_fit": null,
      "object_position": null,
      "order": null,
      "overflow": null,
      "overflow_x": null,
      "overflow_y": null,
      "padding": null,
      "right": null,
      "top": null,
      "visibility": null,
      "width": null
     }
    },
    "3a674f336fa047bb87371aa751a79768": {
     "model_module": "@jupyter-widgets/controls",
     "model_module_version": "1.5.0",
     "model_name": "FloatProgressModel",
     "state": {
      "_dom_classes": [],
      "_model_module": "@jupyter-widgets/controls",
      "_model_module_version": "1.5.0",
      "_model_name": "FloatProgressModel",
      "_view_count": null,
      "_view_module": "@jupyter-widgets/controls",
      "_view_module_version": "1.5.0",
      "_view_name": "ProgressView",
      "bar_style": "",
      "description": "",
      "description_tooltip": null,
      "layout": "IPY_MODEL_84f152645ee542218681dfdcf376fd9f",
      "max": 100,
      "min": 0,
      "orientation": "horizontal",
      "style": "IPY_MODEL_06ceb796d313496e85c517c3b78201d9",
      "value": 100
     }
    },
    "5eb5ab5481df4b13af5cee0f511adb98": {
     "model_module": "@jupyter-widgets/controls",
     "model_module_version": "1.5.0",
     "model_name": "DescriptionStyleModel",
     "state": {
      "_model_module": "@jupyter-widgets/controls",
      "_model_module_version": "1.5.0",
      "_model_name": "DescriptionStyleModel",
      "_view_count": null,
      "_view_module": "@jupyter-widgets/base",
      "_view_module_version": "1.2.0",
      "_view_name": "StyleView",
      "description_width": ""
     }
    },
    "6d0f854d045e427494df46f1e6cb1cfb": {
     "model_module": "@jupyter-widgets/controls",
     "model_module_version": "1.5.0",
     "model_name": "HTMLModel",
     "state": {
      "_dom_classes": [],
      "_model_module": "@jupyter-widgets/controls",
      "_model_module_version": "1.5.0",
      "_model_name": "HTMLModel",
      "_view_count": null,
      "_view_module": "@jupyter-widgets/controls",
      "_view_module_version": "1.5.0",
      "_view_name": "HTMLView",
      "description": "",
      "description_tooltip": null,
      "layout": "IPY_MODEL_fd8ce297506445f58cae5bdb9befd69f",
      "placeholder": "​",
      "style": "IPY_MODEL_7dd20df2750144dbbc170c65e6549b64",
      "value": "100%"
     }
    },
    "77d73144621f4f4eb2cb39a346e7d093": {
     "model_module": "@jupyter-widgets/controls",
     "model_module_version": "1.5.0",
     "model_name": "HTMLModel",
     "state": {
      "_dom_classes": [],
      "_model_module": "@jupyter-widgets/controls",
      "_model_module_version": "1.5.0",
      "_model_name": "HTMLModel",
      "_view_count": null,
      "_view_module": "@jupyter-widgets/controls",
      "_view_module_version": "1.5.0",
      "_view_name": "HTMLView",
      "description": "",
      "description_tooltip": null,
      "layout": "IPY_MODEL_0e27805b5257437cad57adaf42e3500d",
      "placeholder": "​",
      "style": "IPY_MODEL_0bf3983958934e0c9ef965953a62a7d5",
      "value": "100%"
     }
    },
    "7dd20df2750144dbbc170c65e6549b64": {
     "model_module": "@jupyter-widgets/controls",
     "model_module_version": "1.5.0",
     "model_name": "DescriptionStyleModel",
     "state": {
      "_model_module": "@jupyter-widgets/controls",
      "_model_module_version": "1.5.0",
      "_model_name": "DescriptionStyleModel",
      "_view_count": null,
      "_view_module": "@jupyter-widgets/base",
      "_view_module_version": "1.2.0",
      "_view_name": "StyleView",
      "description_width": ""
     }
    },
    "84f152645ee542218681dfdcf376fd9f": {
     "model_module": "@jupyter-widgets/base",
     "model_module_version": "1.2.0",
     "model_name": "LayoutModel",
     "state": {
      "_model_module": "@jupyter-widgets/base",
      "_model_module_version": "1.2.0",
      "_model_name": "LayoutModel",
      "_view_count": null,
      "_view_module": "@jupyter-widgets/base",
      "_view_module_version": "1.2.0",
      "_view_name": "LayoutView",
      "align_content": null,
      "align_items": null,
      "align_self": null,
      "border": null,
      "bottom": null,
      "display": null,
      "flex": null,
      "flex_flow": null,
      "grid_area": null,
      "grid_auto_columns": null,
      "grid_auto_flow": null,
      "grid_auto_rows": null,
      "grid_column": null,
      "grid_gap": null,
      "grid_row": null,
      "grid_template_areas": null,
      "grid_template_columns": null,
      "grid_template_rows": null,
      "height": null,
      "justify_content": null,
      "justify_items": null,
      "left": null,
      "margin": null,
      "max_height": null,
      "max_width": null,
      "min_height": null,
      "min_width": null,
      "object_fit": null,
      "object_position": null,
      "order": null,
      "overflow": null,
      "overflow_x": null,
      "overflow_y": null,
      "padding": null,
      "right": null,
      "top": null,
      "visibility": null,
      "width": null
     }
    },
    "87d2d42297f34487b03d361914d00e35": {
     "model_module": "@jupyter-widgets/controls",
     "model_module_version": "1.5.0",
     "model_name": "HTMLModel",
     "state": {
      "_dom_classes": [],
      "_model_module": "@jupyter-widgets/controls",
      "_model_module_version": "1.5.0",
      "_model_name": "HTMLModel",
      "_view_count": null,
      "_view_module": "@jupyter-widgets/controls",
      "_view_module_version": "1.5.0",
      "_view_name": "HTMLView",
      "description": "",
      "description_tooltip": null,
      "layout": "IPY_MODEL_1bc627768ef340bbb04b20040cf71255",
      "placeholder": "​",
      "style": "IPY_MODEL_28a37425f0a74e48bcb5a47e53239875",
      "value": "100%"
     }
    },
    "883cf29824be41bea84496a4c5d41f6b": {
     "model_module": "@jupyter-widgets/base",
     "model_module_version": "1.2.0",
     "model_name": "LayoutModel",
     "state": {
      "_model_module": "@jupyter-widgets/base",
      "_model_module_version": "1.2.0",
      "_model_name": "LayoutModel",
      "_view_count": null,
      "_view_module": "@jupyter-widgets/base",
      "_view_module_version": "1.2.0",
      "_view_name": "LayoutView",
      "align_content": null,
      "align_items": null,
      "align_self": null,
      "border": null,
      "bottom": null,
      "display": null,
      "flex": null,
      "flex_flow": null,
      "grid_area": null,
      "grid_auto_columns": null,
      "grid_auto_flow": null,
      "grid_auto_rows": null,
      "grid_column": null,
      "grid_gap": null,
      "grid_row": null,
      "grid_template_areas": null,
      "grid_template_columns": null,
      "grid_template_rows": null,
      "height": null,
      "justify_content": null,
      "justify_items": null,
      "left": null,
      "margin": null,
      "max_height": null,
      "max_width": null,
      "min_height": null,
      "min_width": null,
      "object_fit": null,
      "object_position": null,
      "order": null,
      "overflow": null,
      "overflow_x": null,
      "overflow_y": null,
      "padding": null,
      "right": null,
      "top": null,
      "visibility": null,
      "width": null
     }
    },
    "98cf8395137e4adda75d556c726f6b63": {
     "model_module": "@jupyter-widgets/controls",
     "model_module_version": "1.5.0",
     "model_name": "ProgressStyleModel",
     "state": {
      "_model_module": "@jupyter-widgets/controls",
      "_model_module_version": "1.5.0",
      "_model_name": "ProgressStyleModel",
      "_view_count": null,
      "_view_module": "@jupyter-widgets/base",
      "_view_module_version": "1.2.0",
      "_view_name": "StyleView",
      "bar_color": null,
      "description_width": ""
     }
    },
    "9c2ec33c8eb94e1f80542cfd6dd49140": {
     "model_module": "@jupyter-widgets/controls",
     "model_module_version": "1.5.0",
     "model_name": "HTMLModel",
     "state": {
      "_dom_classes": [],
      "_model_module": "@jupyter-widgets/controls",
      "_model_module_version": "1.5.0",
      "_model_name": "HTMLModel",
      "_view_count": null,
      "_view_module": "@jupyter-widgets/controls",
      "_view_module_version": "1.5.0",
      "_view_name": "HTMLView",
      "description": "",
      "description_tooltip": null,
      "layout": "IPY_MODEL_9ddb33e70fe240119d707575372f4daa",
      "placeholder": "​",
      "style": "IPY_MODEL_289fe6d816d24a709c7a4fb68a20239a",
      "value": " 180/180 [11:49&lt;00:00,  3.84s/it]"
     }
    },
    "9ddb33e70fe240119d707575372f4daa": {
     "model_module": "@jupyter-widgets/base",
     "model_module_version": "1.2.0",
     "model_name": "LayoutModel",
     "state": {
      "_model_module": "@jupyter-widgets/base",
      "_model_module_version": "1.2.0",
      "_model_name": "LayoutModel",
      "_view_count": null,
      "_view_module": "@jupyter-widgets/base",
      "_view_module_version": "1.2.0",
      "_view_name": "LayoutView",
      "align_content": null,
      "align_items": null,
      "align_self": null,
      "border": null,
      "bottom": null,
      "display": null,
      "flex": null,
      "flex_flow": null,
      "grid_area": null,
      "grid_auto_columns": null,
      "grid_auto_flow": null,
      "grid_auto_rows": null,
      "grid_column": null,
      "grid_gap": null,
      "grid_row": null,
      "grid_template_areas": null,
      "grid_template_columns": null,
      "grid_template_rows": null,
      "height": null,
      "justify_content": null,
      "justify_items": null,
      "left": null,
      "margin": null,
      "max_height": null,
      "max_width": null,
      "min_height": null,
      "min_width": null,
      "object_fit": null,
      "object_position": null,
      "order": null,
      "overflow": null,
      "overflow_x": null,
      "overflow_y": null,
      "padding": null,
      "right": null,
      "top": null,
      "visibility": null,
      "width": null
     }
    },
    "9e8e788dda954b2a8b0768014c179c96": {
     "model_module": "@jupyter-widgets/controls",
     "model_module_version": "1.5.0",
     "model_name": "HTMLModel",
     "state": {
      "_dom_classes": [],
      "_model_module": "@jupyter-widgets/controls",
      "_model_module_version": "1.5.0",
      "_model_name": "HTMLModel",
      "_view_count": null,
      "_view_module": "@jupyter-widgets/controls",
      "_view_module_version": "1.5.0",
      "_view_name": "HTMLView",
      "description": "",
      "description_tooltip": null,
      "layout": "IPY_MODEL_cf999fef3fca415eade6d478b62fb01e",
      "placeholder": "​",
      "style": "IPY_MODEL_5eb5ab5481df4b13af5cee0f511adb98",
      "value": " 480/480 [31:21&lt;00:00,  3.82s/it]"
     }
    },
    "c24a05a5c39847bc8565a7a5186bbd78": {
     "model_module": "@jupyter-widgets/controls",
     "model_module_version": "1.5.0",
     "model_name": "HTMLModel",
     "state": {
      "_dom_classes": [],
      "_model_module": "@jupyter-widgets/controls",
      "_model_module_version": "1.5.0",
      "_model_name": "HTMLModel",
      "_view_count": null,
      "_view_module": "@jupyter-widgets/controls",
      "_view_module_version": "1.5.0",
      "_view_name": "HTMLView",
      "description": "",
      "description_tooltip": null,
      "layout": "IPY_MODEL_22844fbef6f748c5b79a1986caaf67d5",
      "placeholder": "​",
      "style": "IPY_MODEL_32f4fbd4749f45b5aa08baffa58a8916",
      "value": " 100/100 [08:08&lt;00:00,  4.91s/it]"
     }
    },
    "cf999fef3fca415eade6d478b62fb01e": {
     "model_module": "@jupyter-widgets/base",
     "model_module_version": "1.2.0",
     "model_name": "LayoutModel",
     "state": {
      "_model_module": "@jupyter-widgets/base",
      "_model_module_version": "1.2.0",
      "_model_name": "LayoutModel",
      "_view_count": null,
      "_view_module": "@jupyter-widgets/base",
      "_view_module_version": "1.2.0",
      "_view_name": "LayoutView",
      "align_content": null,
      "align_items": null,
      "align_self": null,
      "border": null,
      "bottom": null,
      "display": null,
      "flex": null,
      "flex_flow": null,
      "grid_area": null,
      "grid_auto_columns": null,
      "grid_auto_flow": null,
      "grid_auto_rows": null,
      "grid_column": null,
      "grid_gap": null,
      "grid_row": null,
      "grid_template_areas": null,
      "grid_template_columns": null,
      "grid_template_rows": null,
      "height": null,
      "justify_content": null,
      "justify_items": null,
      "left": null,
      "margin": null,
      "max_height": null,
      "max_width": null,
      "min_height": null,
      "min_width": null,
      "object_fit": null,
      "object_position": null,
      "order": null,
      "overflow": null,
      "overflow_x": null,
      "overflow_y": null,
      "padding": null,
      "right": null,
      "top": null,
      "visibility": null,
      "width": null
     }
    },
    "d274cc89c86f40f6b9c479074e0de0ac": {
     "model_module": "@jupyter-widgets/controls",
     "model_module_version": "1.5.0",
     "model_name": "HBoxModel",
     "state": {
      "_dom_classes": [],
      "_model_module": "@jupyter-widgets/controls",
      "_model_module_version": "1.5.0",
      "_model_name": "HBoxModel",
      "_view_count": null,
      "_view_module": "@jupyter-widgets/controls",
      "_view_module_version": "1.5.0",
      "_view_name": "HBoxView",
      "box_style": "",
      "children": [
       "IPY_MODEL_77d73144621f4f4eb2cb39a346e7d093",
       "IPY_MODEL_d9e098be80f041c7baf8a91c17d7c3eb",
       "IPY_MODEL_9e8e788dda954b2a8b0768014c179c96"
      ],
      "layout": "IPY_MODEL_883cf29824be41bea84496a4c5d41f6b"
     }
    },
    "d2c0e259d4e14d5ba8e540d7787e751a": {
     "model_module": "@jupyter-widgets/base",
     "model_module_version": "1.2.0",
     "model_name": "LayoutModel",
     "state": {
      "_model_module": "@jupyter-widgets/base",
      "_model_module_version": "1.2.0",
      "_model_name": "LayoutModel",
      "_view_count": null,
      "_view_module": "@jupyter-widgets/base",
      "_view_module_version": "1.2.0",
      "_view_name": "LayoutView",
      "align_content": null,
      "align_items": null,
      "align_self": null,
      "border": null,
      "bottom": null,
      "display": null,
      "flex": null,
      "flex_flow": null,
      "grid_area": null,
      "grid_auto_columns": null,
      "grid_auto_flow": null,
      "grid_auto_rows": null,
      "grid_column": null,
      "grid_gap": null,
      "grid_row": null,
      "grid_template_areas": null,
      "grid_template_columns": null,
      "grid_template_rows": null,
      "height": null,
      "justify_content": null,
      "justify_items": null,
      "left": null,
      "margin": null,
      "max_height": null,
      "max_width": null,
      "min_height": null,
      "min_width": null,
      "object_fit": null,
      "object_position": null,
      "order": null,
      "overflow": null,
      "overflow_x": null,
      "overflow_y": null,
      "padding": null,
      "right": null,
      "top": null,
      "visibility": null,
      "width": null
     }
    },
    "d9e098be80f041c7baf8a91c17d7c3eb": {
     "model_module": "@jupyter-widgets/controls",
     "model_module_version": "1.5.0",
     "model_name": "FloatProgressModel",
     "state": {
      "_dom_classes": [],
      "_model_module": "@jupyter-widgets/controls",
      "_model_module_version": "1.5.0",
      "_model_name": "FloatProgressModel",
      "_view_count": null,
      "_view_module": "@jupyter-widgets/controls",
      "_view_module_version": "1.5.0",
      "_view_name": "ProgressView",
      "bar_style": "",
      "description": "",
      "description_tooltip": null,
      "layout": "IPY_MODEL_388fbf65508147d6ba1e4886238a6c63",
      "max": 480,
      "min": 0,
      "orientation": "horizontal",
      "style": "IPY_MODEL_98cf8395137e4adda75d556c726f6b63",
      "value": 480
     }
    },
    "da7f4c5eefc340f3a0a62acdd6cd90af": {
     "model_module": "@jupyter-widgets/controls",
     "model_module_version": "1.5.0",
     "model_name": "HBoxModel",
     "state": {
      "_dom_classes": [],
      "_model_module": "@jupyter-widgets/controls",
      "_model_module_version": "1.5.0",
      "_model_name": "HBoxModel",
      "_view_count": null,
      "_view_module": "@jupyter-widgets/controls",
      "_view_module_version": "1.5.0",
      "_view_name": "HBoxView",
      "box_style": "",
      "children": [
       "IPY_MODEL_6d0f854d045e427494df46f1e6cb1cfb",
       "IPY_MODEL_3a674f336fa047bb87371aa751a79768",
       "IPY_MODEL_c24a05a5c39847bc8565a7a5186bbd78"
      ],
      "layout": "IPY_MODEL_06a46ee9a8344834b564b007e96b34e2"
     }
    },
    "fd8ce297506445f58cae5bdb9befd69f": {
     "model_module": "@jupyter-widgets/base",
     "model_module_version": "1.2.0",
     "model_name": "LayoutModel",
     "state": {
      "_model_module": "@jupyter-widgets/base",
      "_model_module_version": "1.2.0",
      "_model_name": "LayoutModel",
      "_view_count": null,
      "_view_module": "@jupyter-widgets/base",
      "_view_module_version": "1.2.0",
      "_view_name": "LayoutView",
      "align_content": null,
      "align_items": null,
      "align_self": null,
      "border": null,
      "bottom": null,
      "display": null,
      "flex": null,
      "flex_flow": null,
      "grid_area": null,
      "grid_auto_columns": null,
      "grid_auto_flow": null,
      "grid_auto_rows": null,
      "grid_column": null,
      "grid_gap": null,
      "grid_row": null,
      "grid_template_areas": null,
      "grid_template_columns": null,
      "grid_template_rows": null,
      "height": null,
      "justify_content": null,
      "justify_items": null,
      "left": null,
      "margin": null,
      "max_height": null,
      "max_width": null,
      "min_height": null,
      "min_width": null,
      "object_fit": null,
      "object_position": null,
      "order": null,
      "overflow": null,
      "overflow_x": null,
      "overflow_y": null,
      "padding": null,
      "right": null,
      "top": null,
      "visibility": null,
      "width": null
     }
    }
   }
  }
 },
 "nbformat": 4,
 "nbformat_minor": 1
}
